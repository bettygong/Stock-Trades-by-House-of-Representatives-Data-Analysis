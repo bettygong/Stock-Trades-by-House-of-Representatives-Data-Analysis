{
 "cells": [
  {
   "cell_type": "markdown",
   "metadata": {},
   "source": [
    "# Data Analysis on Stock Trades\n",
    "\n",
    "Jiatu Li, Ziling Gong"
   ]
  },
  {
   "cell_type": "markdown",
   "metadata": {},
   "source": [
    "## Summary of Findings\n",
    "\n",
    "### Introduction\n",
    "In this project we are going to analyze stock trade made by members of the US House of Representatives. We'd like to gain more idea about whether party representatives hold different transaction style, and what the most popular companies Representatives like to invest in. This stock dataset is collected and maintained by Timothy Carambat as part of the House Stock Watcher project. This dataset contains transaction information (date, type, owner type, ticker, amount range, etc.), and investors' information (representative's name, and their district code) from 2017 till 2022. Since we are interested in representatives' party affiliation, we use another data set that contain Representative district code and their Party. Thus, we are able to match transaction information with party affiliation. \n",
    "\n",
    "### Cleaning and EDA\n",
    "Since we miss party affiliation information in original stock.csv file, we merge another dataframe containing Representatives' district keys and their parties to it. Furthermore, we find that the NaN values are not stored as `np.NaN` in dataframe, so we replace `--` with `np.NaN`. It will provide us an accurate understanding when we are checking missingness type. We convert time columns to `pd.datatime` object. It help us to extract time values and discuss questions related to time. There existed some strange time string, so we fixed the time string before convert to `datetime` object. More detailed cleaning steps are demonstrated in relative section below.\\\n",
    "In exploratary data analysis party, we first obtain a overall \n",
    "look of two Party's transaction context. We find that Democratic representatives mae more transactions than Republicans from 2017-2022. In 2020 when COVID 19 outbroke, Republican made more successful transactions that have capital gains over 200 usd. We also take a look of transaction type of two parties, we see that both party `purchase` the most, and have roughly similar distribution of transaction shape. We will test the observation in hypothesis test section. Plus, we find that the top 10 popular tickers are MSFT, AAPL, MTAP, TDDXX, etc. We will discuss it closely in next section. Graphs are shown in EDA section below.\n",
    "### Assessment of Missingness\n",
    "We check `NaN` values of each column, and find that `ower` has 6668 missing values, `ticker` has 1147, and `asset_description` has 4. Since `owner` has non-trivial missing values, we are testing MAR on it. We compute permutation test on `owner` with `Party`, `type` and `cap_gains_over_200_usd`.\\\n",
    "Before doing it, we checked missingness type of `ticker` and `asset description`. We know that `ticker` is stock symbols, and asset description contains full name of the company. The two columns refer to the same information. Their information is interrelated to each other. If either column is missed, we can always refer back to the other one. Then we want to know if the company's information is missed at all. We can see that there are no rows have missing values  in both columns at the same time. It means we can always find the stock company information by chekcing the other non-missing column. We guess that the value missed is because the recorder was not required to fill in both information, or forgot the ticker name (or asset_description in another case). So we can't say `ticker` or `asset_description` are NMAR.\\\n",
    "`owner` column has non-trivial missingness, roughly 47%. It's not MD, because all transitions have owner types. Then is it NMAR? We don't think it is NMAR, the data collectors are the third-party and objective, there's no reason for them to hide `owner` information from public. Then we want to discover whether it's MCAR or MAR. If `owner` is MCAR, the distribution of the other column should be same no matter values in `owner` missed or not. Our H0 is two distributions are same, and H1 is two distributions are not same. The statistic we choose is tvd for all three tests, because these three columns are categorical. During the permutation test, we shuffle `owner_null` column, which means we randomly assign missingness to other column. We want to see how exetreme our observed tvd is compared to randomized tvds. We got p-val are all 0, meaning it's barely able to have such large observed tvd if we random assign columns. As we setting significant level at 0.05, we reject H0. We have sufficient evidence to say `owner` is MAR.\n",
    "\n",
    "### Hypothesis Test\n",
    "We first investigate whether representatives make more transactions on Amazon in 2020 compared to other years. We set \\\n",
    "H0: proportion of amazon transaction in 2020 = proportion of amazon transactions in average \\\n",
    "H1: proportion of amazon transaction in 2020 > proportion of amazon transactions in average \\\n",
    "We choose proportion of amazon transactions among all transactions as statistic. Because each year have different transaction amount, and we normalize it to proportion. We use hypothsis test, because Amazon transactions in 2020 is part of transactions overall. We conduct the test by randomly sample a size of 2020 transaction amounts, and calculate the proportion of Amazon transaction in the random sample. Then we calculate p-val by calculating the proportion of sampled proportions equal to or larger than observed proportion. We got pval=0.742, which is larger than significant level 0.05. We fail to reject H0. We don't have sufficient evidence to say Representatives make more Amazon transactions in 2020.\\\n",
    "\\\n",
    "Plus, we also want to know whether Republican party and Democratic party hold the similar transaction type. We set\\\n",
    "H0: Their transaction type follows same distribution\\\n",
    "H1: Their transaction type doesn't follow same distribution\\\n",
    "Since Republican transactions and Democratic transactions are two samples, we need to perform permutation tests. We choose tvd as statistic, because it measures the difference between categorical distributions. If two distributions are the same, the difference bewteen distributions should be small. We shuffle `Party` column, which randomly assign Party value to type. Then we compute the tvd of `type` distributions. P-val is the proportion of tvds that beyond observed tvd, from which we got pval=0. Since pval<0.05, we reject H0. We have sufficient evidence to say Republican and Democratic distributions on `type` is different. "
   ]
  },
  {
   "cell_type": "markdown",
   "metadata": {},
   "source": [
    "## Conclusion"
   ]
  },
  {
   "cell_type": "markdown",
   "metadata": {},
   "source": [
    "Since stock dataset have majority categorical values, we didn't draw scatterplots or botplots that require quantatative relationship. Though there's one column `amount` contain quantative data, the values are hard to interpretate. Because some entry only contain lower bound such as `$1001`. It's hard to determine an average amount based on that. But if we can have more accurate amount, we will be able to draw more conclusion from it."
   ]
  },
  {
   "cell_type": "markdown",
   "metadata": {},
   "source": [
    "## Code"
   ]
  },
  {
   "cell_type": "code",
   "execution_count": 1,
   "metadata": {
    "ExecuteTime": {
     "end_time": "2019-10-31T23:36:28.652554Z",
     "start_time": "2019-10-31T23:36:27.180520Z"
    }
   },
   "outputs": [],
   "source": [
    "import matplotlib.pyplot as plt\n",
    "import numpy as np\n",
    "import os\n",
    "import pandas as pd\n",
    "import seaborn as sns"
   ]
  },
  {
   "cell_type": "markdown",
   "metadata": {},
   "source": [
    "### Cleaning and EDA"
   ]
  },
  {
   "cell_type": "markdown",
   "metadata": {},
   "source": [
    "First, load the stock dataset."
   ]
  },
  {
   "cell_type": "code",
   "execution_count": 2,
   "metadata": {
    "ExecuteTime": {
     "end_time": "2019-10-31T23:36:28.657068Z",
     "start_time": "2019-10-31T23:36:28.654650Z"
    }
   },
   "outputs": [
    {
     "data": {
      "text/html": [
       "<div>\n",
       "<style scoped>\n",
       "    .dataframe tbody tr th:only-of-type {\n",
       "        vertical-align: middle;\n",
       "    }\n",
       "\n",
       "    .dataframe tbody tr th {\n",
       "        vertical-align: top;\n",
       "    }\n",
       "\n",
       "    .dataframe thead th {\n",
       "        text-align: right;\n",
       "    }\n",
       "</style>\n",
       "<table border=\"1\" class=\"dataframe\">\n",
       "  <thead>\n",
       "    <tr style=\"text-align: right;\">\n",
       "      <th></th>\n",
       "      <th>disclosure_year</th>\n",
       "      <th>disclosure_date</th>\n",
       "      <th>transaction_date</th>\n",
       "      <th>owner</th>\n",
       "      <th>ticker</th>\n",
       "      <th>asset_description</th>\n",
       "      <th>type</th>\n",
       "      <th>amount</th>\n",
       "      <th>representative</th>\n",
       "      <th>district</th>\n",
       "      <th>ptr_link</th>\n",
       "      <th>cap_gains_over_200_usd</th>\n",
       "    </tr>\n",
       "  </thead>\n",
       "  <tbody>\n",
       "    <tr>\n",
       "      <th>0</th>\n",
       "      <td>2021</td>\n",
       "      <td>10/04/2021</td>\n",
       "      <td>2021-09-27</td>\n",
       "      <td>joint</td>\n",
       "      <td>BP</td>\n",
       "      <td>BP plc</td>\n",
       "      <td>purchase</td>\n",
       "      <td>$1,001 - $15,000</td>\n",
       "      <td>Hon. Virginia Foxx</td>\n",
       "      <td>NC05</td>\n",
       "      <td>https://disclosures-clerk.house.gov/public_dis...</td>\n",
       "      <td>False</td>\n",
       "    </tr>\n",
       "    <tr>\n",
       "      <th>1</th>\n",
       "      <td>2021</td>\n",
       "      <td>10/04/2021</td>\n",
       "      <td>2021-09-13</td>\n",
       "      <td>joint</td>\n",
       "      <td>XOM</td>\n",
       "      <td>Exxon Mobil Corporation</td>\n",
       "      <td>purchase</td>\n",
       "      <td>$1,001 - $15,000</td>\n",
       "      <td>Hon. Virginia Foxx</td>\n",
       "      <td>NC05</td>\n",
       "      <td>https://disclosures-clerk.house.gov/public_dis...</td>\n",
       "      <td>False</td>\n",
       "    </tr>\n",
       "    <tr>\n",
       "      <th>2</th>\n",
       "      <td>2021</td>\n",
       "      <td>10/04/2021</td>\n",
       "      <td>2021-09-10</td>\n",
       "      <td>joint</td>\n",
       "      <td>ILPT</td>\n",
       "      <td>Industrial Logistics Properties Trust - Common...</td>\n",
       "      <td>purchase</td>\n",
       "      <td>$15,001 - $50,000</td>\n",
       "      <td>Hon. Virginia Foxx</td>\n",
       "      <td>NC05</td>\n",
       "      <td>https://disclosures-clerk.house.gov/public_dis...</td>\n",
       "      <td>False</td>\n",
       "    </tr>\n",
       "    <tr>\n",
       "      <th>3</th>\n",
       "      <td>2021</td>\n",
       "      <td>10/04/2021</td>\n",
       "      <td>2021-09-28</td>\n",
       "      <td>joint</td>\n",
       "      <td>PM</td>\n",
       "      <td>Phillip Morris International Inc</td>\n",
       "      <td>purchase</td>\n",
       "      <td>$15,001 - $50,000</td>\n",
       "      <td>Hon. Virginia Foxx</td>\n",
       "      <td>NC05</td>\n",
       "      <td>https://disclosures-clerk.house.gov/public_dis...</td>\n",
       "      <td>False</td>\n",
       "    </tr>\n",
       "    <tr>\n",
       "      <th>4</th>\n",
       "      <td>2021</td>\n",
       "      <td>10/04/2021</td>\n",
       "      <td>2021-09-17</td>\n",
       "      <td>self</td>\n",
       "      <td>BLK</td>\n",
       "      <td>BlackRock Inc</td>\n",
       "      <td>sale_partial</td>\n",
       "      <td>$1,001 - $15,000</td>\n",
       "      <td>Hon. Alan S. Lowenthal</td>\n",
       "      <td>CA47</td>\n",
       "      <td>https://disclosures-clerk.house.gov/public_dis...</td>\n",
       "      <td>False</td>\n",
       "    </tr>\n",
       "  </tbody>\n",
       "</table>\n",
       "</div>"
      ],
      "text/plain": [
       "   disclosure_year disclosure_date transaction_date  owner ticker  \\\n",
       "0             2021      10/04/2021       2021-09-27  joint     BP   \n",
       "1             2021      10/04/2021       2021-09-13  joint    XOM   \n",
       "2             2021      10/04/2021       2021-09-10  joint   ILPT   \n",
       "3             2021      10/04/2021       2021-09-28  joint     PM   \n",
       "4             2021      10/04/2021       2021-09-17   self    BLK   \n",
       "\n",
       "                                   asset_description          type  \\\n",
       "0                                             BP plc      purchase   \n",
       "1                            Exxon Mobil Corporation      purchase   \n",
       "2  Industrial Logistics Properties Trust - Common...      purchase   \n",
       "3                   Phillip Morris International Inc      purchase   \n",
       "4                                      BlackRock Inc  sale_partial   \n",
       "\n",
       "              amount          representative district  \\\n",
       "0   $1,001 - $15,000      Hon. Virginia Foxx     NC05   \n",
       "1   $1,001 - $15,000      Hon. Virginia Foxx     NC05   \n",
       "2  $15,001 - $50,000      Hon. Virginia Foxx     NC05   \n",
       "3  $15,001 - $50,000      Hon. Virginia Foxx     NC05   \n",
       "4   $1,001 - $15,000  Hon. Alan S. Lowenthal     CA47   \n",
       "\n",
       "                                            ptr_link  cap_gains_over_200_usd  \n",
       "0  https://disclosures-clerk.house.gov/public_dis...                   False  \n",
       "1  https://disclosures-clerk.house.gov/public_dis...                   False  \n",
       "2  https://disclosures-clerk.house.gov/public_dis...                   False  \n",
       "3  https://disclosures-clerk.house.gov/public_dis...                   False  \n",
       "4  https://disclosures-clerk.house.gov/public_dis...                   False  "
      ]
     },
     "execution_count": 2,
     "metadata": {},
     "output_type": "execute_result"
    }
   ],
   "source": [
    "stock = pd.read_csv('all_transactions.csv') # stock dataset\n",
    "stock.head()"
   ]
  },
  {
   "cell_type": "markdown",
   "metadata": {},
   "source": [
    "We look through the data frame and found that there are null values in '--' format, so we replace `'--'` with `np.NaN`. We are going to analyze if the missingness in the certain column depends on some other columns later."
   ]
  },
  {
   "cell_type": "code",
   "execution_count": 3,
   "metadata": {},
   "outputs": [],
   "source": [
    "stock = stock.replace('--',np.NaN)"
   ]
  },
  {
   "cell_type": "markdown",
   "metadata": {},
   "source": [
    "Load another dataset containing the district code and the party of the representative in that district. \\\n",
    "We need this district dataset because we are going to analyze the relationship between representatives' political affiliations and some other columns of the original dataset, such as whether republicans made capital gains over $200 more often."
   ]
  },
  {
   "cell_type": "code",
   "execution_count": 4,
   "metadata": {},
   "outputs": [
    {
     "data": {
      "text/html": [
       "<div>\n",
       "<style scoped>\n",
       "    .dataframe tbody tr th:only-of-type {\n",
       "        vertical-align: middle;\n",
       "    }\n",
       "\n",
       "    .dataframe tbody tr th {\n",
       "        vertical-align: top;\n",
       "    }\n",
       "\n",
       "    .dataframe thead th {\n",
       "        text-align: right;\n",
       "    }\n",
       "</style>\n",
       "<table border=\"1\" class=\"dataframe\">\n",
       "  <thead>\n",
       "    <tr style=\"text-align: right;\">\n",
       "      <th></th>\n",
       "      <th>District</th>\n",
       "      <th>Party</th>\n",
       "    </tr>\n",
       "  </thead>\n",
       "  <tbody>\n",
       "    <tr>\n",
       "      <th>0</th>\n",
       "      <td>AL01</td>\n",
       "      <td>Republican</td>\n",
       "    </tr>\n",
       "    <tr>\n",
       "      <th>1</th>\n",
       "      <td>AL02</td>\n",
       "      <td>Republican</td>\n",
       "    </tr>\n",
       "    <tr>\n",
       "      <th>2</th>\n",
       "      <td>AL03</td>\n",
       "      <td>Republican</td>\n",
       "    </tr>\n",
       "    <tr>\n",
       "      <th>3</th>\n",
       "      <td>AL04</td>\n",
       "      <td>Republican</td>\n",
       "    </tr>\n",
       "    <tr>\n",
       "      <th>4</th>\n",
       "      <td>AL05</td>\n",
       "      <td>Republican</td>\n",
       "    </tr>\n",
       "  </tbody>\n",
       "</table>\n",
       "</div>"
      ],
      "text/plain": [
       "  District       Party\n",
       "0     AL01  Republican\n",
       "1     AL02  Republican\n",
       "2     AL03  Republican\n",
       "3     AL04  Republican\n",
       "4     AL05  Republican"
      ]
     },
     "execution_count": 4,
     "metadata": {},
     "output_type": "execute_result"
    }
   ],
   "source": [
    "district = pd.read_csv('out_district.csv').drop('idx',axis=1) # district code and party affiliation dataframe\n",
    "district.head()"
   ]
  },
  {
   "cell_type": "markdown",
   "metadata": {},
   "source": [
    "Merge the datasets, stock and district, so that we have the party information in the big table. We choose to merge based on `district` because each representative's district code is unique, while their names could have variations from online sources.  We keep all rows in the stock dataset by using the left merge since we do not want to lose any original information."
   ]
  },
  {
   "cell_type": "code",
   "execution_count": 5,
   "metadata": {},
   "outputs": [
    {
     "data": {
      "text/html": [
       "<div>\n",
       "<style scoped>\n",
       "    .dataframe tbody tr th:only-of-type {\n",
       "        vertical-align: middle;\n",
       "    }\n",
       "\n",
       "    .dataframe tbody tr th {\n",
       "        vertical-align: top;\n",
       "    }\n",
       "\n",
       "    .dataframe thead th {\n",
       "        text-align: right;\n",
       "    }\n",
       "</style>\n",
       "<table border=\"1\" class=\"dataframe\">\n",
       "  <thead>\n",
       "    <tr style=\"text-align: right;\">\n",
       "      <th></th>\n",
       "      <th>disclosure_year</th>\n",
       "      <th>disclosure_date</th>\n",
       "      <th>transaction_date</th>\n",
       "      <th>owner</th>\n",
       "      <th>ticker</th>\n",
       "      <th>asset_description</th>\n",
       "      <th>type</th>\n",
       "      <th>amount</th>\n",
       "      <th>representative</th>\n",
       "      <th>district</th>\n",
       "      <th>ptr_link</th>\n",
       "      <th>cap_gains_over_200_usd</th>\n",
       "      <th>Party</th>\n",
       "    </tr>\n",
       "  </thead>\n",
       "  <tbody>\n",
       "    <tr>\n",
       "      <th>0</th>\n",
       "      <td>2021</td>\n",
       "      <td>10/04/2021</td>\n",
       "      <td>2021-09-27</td>\n",
       "      <td>joint</td>\n",
       "      <td>BP</td>\n",
       "      <td>BP plc</td>\n",
       "      <td>purchase</td>\n",
       "      <td>$1,001 - $15,000</td>\n",
       "      <td>Hon. Virginia Foxx</td>\n",
       "      <td>NC05</td>\n",
       "      <td>https://disclosures-clerk.house.gov/public_dis...</td>\n",
       "      <td>False</td>\n",
       "      <td>Republican</td>\n",
       "    </tr>\n",
       "    <tr>\n",
       "      <th>1</th>\n",
       "      <td>2021</td>\n",
       "      <td>10/04/2021</td>\n",
       "      <td>2021-09-13</td>\n",
       "      <td>joint</td>\n",
       "      <td>XOM</td>\n",
       "      <td>Exxon Mobil Corporation</td>\n",
       "      <td>purchase</td>\n",
       "      <td>$1,001 - $15,000</td>\n",
       "      <td>Hon. Virginia Foxx</td>\n",
       "      <td>NC05</td>\n",
       "      <td>https://disclosures-clerk.house.gov/public_dis...</td>\n",
       "      <td>False</td>\n",
       "      <td>Republican</td>\n",
       "    </tr>\n",
       "    <tr>\n",
       "      <th>2</th>\n",
       "      <td>2021</td>\n",
       "      <td>10/04/2021</td>\n",
       "      <td>2021-09-10</td>\n",
       "      <td>joint</td>\n",
       "      <td>ILPT</td>\n",
       "      <td>Industrial Logistics Properties Trust - Common...</td>\n",
       "      <td>purchase</td>\n",
       "      <td>$15,001 - $50,000</td>\n",
       "      <td>Hon. Virginia Foxx</td>\n",
       "      <td>NC05</td>\n",
       "      <td>https://disclosures-clerk.house.gov/public_dis...</td>\n",
       "      <td>False</td>\n",
       "      <td>Republican</td>\n",
       "    </tr>\n",
       "    <tr>\n",
       "      <th>3</th>\n",
       "      <td>2021</td>\n",
       "      <td>10/04/2021</td>\n",
       "      <td>2021-09-28</td>\n",
       "      <td>joint</td>\n",
       "      <td>PM</td>\n",
       "      <td>Phillip Morris International Inc</td>\n",
       "      <td>purchase</td>\n",
       "      <td>$15,001 - $50,000</td>\n",
       "      <td>Hon. Virginia Foxx</td>\n",
       "      <td>NC05</td>\n",
       "      <td>https://disclosures-clerk.house.gov/public_dis...</td>\n",
       "      <td>False</td>\n",
       "      <td>Republican</td>\n",
       "    </tr>\n",
       "    <tr>\n",
       "      <th>4</th>\n",
       "      <td>2021</td>\n",
       "      <td>10/04/2021</td>\n",
       "      <td>2021-09-17</td>\n",
       "      <td>self</td>\n",
       "      <td>BLK</td>\n",
       "      <td>BlackRock Inc</td>\n",
       "      <td>sale_partial</td>\n",
       "      <td>$1,001 - $15,000</td>\n",
       "      <td>Hon. Alan S. Lowenthal</td>\n",
       "      <td>CA47</td>\n",
       "      <td>https://disclosures-clerk.house.gov/public_dis...</td>\n",
       "      <td>False</td>\n",
       "      <td>Democratic</td>\n",
       "    </tr>\n",
       "  </tbody>\n",
       "</table>\n",
       "</div>"
      ],
      "text/plain": [
       "   disclosure_year disclosure_date transaction_date  owner ticker  \\\n",
       "0             2021      10/04/2021       2021-09-27  joint     BP   \n",
       "1             2021      10/04/2021       2021-09-13  joint    XOM   \n",
       "2             2021      10/04/2021       2021-09-10  joint   ILPT   \n",
       "3             2021      10/04/2021       2021-09-28  joint     PM   \n",
       "4             2021      10/04/2021       2021-09-17   self    BLK   \n",
       "\n",
       "                                   asset_description          type  \\\n",
       "0                                             BP plc      purchase   \n",
       "1                            Exxon Mobil Corporation      purchase   \n",
       "2  Industrial Logistics Properties Trust - Common...      purchase   \n",
       "3                   Phillip Morris International Inc      purchase   \n",
       "4                                      BlackRock Inc  sale_partial   \n",
       "\n",
       "              amount          representative district  \\\n",
       "0   $1,001 - $15,000      Hon. Virginia Foxx     NC05   \n",
       "1   $1,001 - $15,000      Hon. Virginia Foxx     NC05   \n",
       "2  $15,001 - $50,000      Hon. Virginia Foxx     NC05   \n",
       "3  $15,001 - $50,000      Hon. Virginia Foxx     NC05   \n",
       "4   $1,001 - $15,000  Hon. Alan S. Lowenthal     CA47   \n",
       "\n",
       "                                            ptr_link  cap_gains_over_200_usd  \\\n",
       "0  https://disclosures-clerk.house.gov/public_dis...                   False   \n",
       "1  https://disclosures-clerk.house.gov/public_dis...                   False   \n",
       "2  https://disclosures-clerk.house.gov/public_dis...                   False   \n",
       "3  https://disclosures-clerk.house.gov/public_dis...                   False   \n",
       "4  https://disclosures-clerk.house.gov/public_dis...                   False   \n",
       "\n",
       "        Party  \n",
       "0  Republican  \n",
       "1  Republican  \n",
       "2  Republican  \n",
       "3  Republican  \n",
       "4  Democratic  "
      ]
     },
     "execution_count": 5,
     "metadata": {},
     "output_type": "execute_result"
    }
   ],
   "source": [
    "# with_party stores value of representative's transaction information and party affiliation\n",
    "with_party = stock.merge(district, left_on='district', right_on='District', how='left').drop('District', axis=1)\n",
    "with_party.head()"
   ]
  },
  {
   "cell_type": "markdown",
   "metadata": {},
   "source": [
    "After merging, we noticed that there is one row with 'VACANT' in its Party column. We found this VACANT value in the district dataset. It is trivial, so we'd like to drop VACANT row to make Party column interpretable (only containing Republic and Democratic). Actually this 'VACANT' can be seen as a missing value since we found the reason why the particular representative's party is vacant being that he died months ago (sad to hear this). However, since there is only one missing value, dropping it will not make much difference to the general data analysis."
   ]
  },
  {
   "cell_type": "code",
   "execution_count": 6,
   "metadata": {},
   "outputs": [
    {
     "data": {
      "text/html": [
       "<div>\n",
       "<style scoped>\n",
       "    .dataframe tbody tr th:only-of-type {\n",
       "        vertical-align: middle;\n",
       "    }\n",
       "\n",
       "    .dataframe tbody tr th {\n",
       "        vertical-align: top;\n",
       "    }\n",
       "\n",
       "    .dataframe thead th {\n",
       "        text-align: right;\n",
       "    }\n",
       "</style>\n",
       "<table border=\"1\" class=\"dataframe\">\n",
       "  <thead>\n",
       "    <tr style=\"text-align: right;\">\n",
       "      <th></th>\n",
       "      <th>disclosure_year</th>\n",
       "      <th>disclosure_date</th>\n",
       "      <th>transaction_date</th>\n",
       "      <th>owner</th>\n",
       "      <th>ticker</th>\n",
       "      <th>asset_description</th>\n",
       "      <th>type</th>\n",
       "      <th>amount</th>\n",
       "      <th>representative</th>\n",
       "      <th>district</th>\n",
       "      <th>ptr_link</th>\n",
       "      <th>cap_gains_over_200_usd</th>\n",
       "      <th>Party</th>\n",
       "    </tr>\n",
       "  </thead>\n",
       "  <tbody>\n",
       "    <tr>\n",
       "      <th>14183</th>\n",
       "      <td>2020</td>\n",
       "      <td>11/20/2020</td>\n",
       "      <td>2020-07-08</td>\n",
       "      <td>NaN</td>\n",
       "      <td>EXAS</td>\n",
       "      <td>Exact Sciences Corporation</td>\n",
       "      <td>sale_full</td>\n",
       "      <td>$1,001 - $15,000</td>\n",
       "      <td>Hon. James Hagedorn</td>\n",
       "      <td>MN01</td>\n",
       "      <td>https://disclosures-clerk.house.gov/public_dis...</td>\n",
       "      <td>False</td>\n",
       "      <td>VACANT</td>\n",
       "    </tr>\n",
       "  </tbody>\n",
       "</table>\n",
       "</div>"
      ],
      "text/plain": [
       "       disclosure_year disclosure_date transaction_date owner ticker  \\\n",
       "14183             2020      11/20/2020       2020-07-08   NaN   EXAS   \n",
       "\n",
       "                asset_description       type            amount  \\\n",
       "14183  Exact Sciences Corporation  sale_full  $1,001 - $15,000   \n",
       "\n",
       "            representative district  \\\n",
       "14183  Hon. James Hagedorn     MN01   \n",
       "\n",
       "                                                ptr_link  \\\n",
       "14183  https://disclosures-clerk.house.gov/public_dis...   \n",
       "\n",
       "       cap_gains_over_200_usd   Party  \n",
       "14183                   False  VACANT  "
      ]
     },
     "metadata": {},
     "output_type": "display_data"
    }
   ],
   "source": [
    "display(with_party[(with_party['Party']!='Democratic') & (with_party['Party']!='Republican')])\n",
    "with_party = with_party[with_party['Party']!='VACANT'] #drop VACANT rows"
   ]
  },
  {
   "cell_type": "markdown",
   "metadata": {},
   "source": [
    "Since `disclosure_date` and `transaction_date` column contains date value, we want to convert the string to `datetime` object. We noticed that when converting these two column values into datetime objects, there are six strange dates unable to be converted, so we refered to the original pdfs of Periodic Transaction Reports and manually replaced the wrong strings.\n",
    "Notice that 2017 through 2022 all appeared many times in the dataset but 2012 only appeared once so we guess it was probably recorded wrong. By opening the corresponding ptr_link and finding the original data, we found it should be 2020."
   ]
  },
  {
   "cell_type": "code",
   "execution_count": 7,
   "metadata": {},
   "outputs": [
    {
     "name": "stdout",
     "output_type": "stream",
     "text": [
      "['2021' '2020' '2019' '2022' '0009' '2018' '0021' '20221' '2012' '2017'\n",
      " '0201']\n"
     ]
    }
   ],
   "source": [
    "# convert dates to datetime object\n",
    "with_party=with_party.assign(disclosure_date=pd.to_datetime(with_party['disclosure_date']))\n",
    "# strange string dictionary for replacing\n",
    "print(with_party['transaction_date'].str.split('-').str[0].unique())\n",
    "example = with_party[with_party['transaction_date'].str.split('-').str[0] == '2012']\n",
    "#0009, 0021, 20221, 2012, 0201 are the strange and 'incorrect' years that we found\n",
    "strange = {'0009-06-09': '2021-06-09', '0021-08-02': '2021-08-02', '0021-06-22': '2021-06-22', \n",
    "           '20221-11-18': '2021-11-18', '2012-06-19': '2020-06-19', '0201-06-22': '2021-06-22'}\n",
    "with_party['transaction_date'] = with_party['transaction_date'].replace(strange)\n",
    "with_party=with_party.assign(transaction_date=pd.to_datetime(with_party['transaction_date']))"
   ]
  },
  {
   "cell_type": "markdown",
   "metadata": {},
   "source": [
    "We show one example below on how we found the original correct information and replaced the wrong year with the correct year."
   ]
  },
  {
   "cell_type": "code",
   "execution_count": 8,
   "metadata": {},
   "outputs": [
    {
     "data": {
      "text/html": [
       "<div>\n",
       "<style scoped>\n",
       "    .dataframe tbody tr th:only-of-type {\n",
       "        vertical-align: middle;\n",
       "    }\n",
       "\n",
       "    .dataframe tbody tr th {\n",
       "        vertical-align: top;\n",
       "    }\n",
       "\n",
       "    .dataframe thead th {\n",
       "        text-align: right;\n",
       "    }\n",
       "</style>\n",
       "<table border=\"1\" class=\"dataframe\">\n",
       "  <thead>\n",
       "    <tr style=\"text-align: right;\">\n",
       "      <th></th>\n",
       "      <th>disclosure_year</th>\n",
       "      <th>disclosure_date</th>\n",
       "      <th>transaction_date</th>\n",
       "      <th>owner</th>\n",
       "      <th>ticker</th>\n",
       "      <th>asset_description</th>\n",
       "      <th>type</th>\n",
       "      <th>amount</th>\n",
       "      <th>representative</th>\n",
       "      <th>district</th>\n",
       "      <th>ptr_link</th>\n",
       "      <th>cap_gains_over_200_usd</th>\n",
       "      <th>Party</th>\n",
       "    </tr>\n",
       "  </thead>\n",
       "  <tbody>\n",
       "    <tr>\n",
       "      <th>9740</th>\n",
       "      <td>2021</td>\n",
       "      <td>2021-08-26</td>\n",
       "      <td>2012-06-19</td>\n",
       "      <td>NaN</td>\n",
       "      <td>BLFSD</td>\n",
       "      <td>BioLife Solutions Inc</td>\n",
       "      <td>purchase</td>\n",
       "      <td>$1,001 - $15,000</td>\n",
       "      <td>Hon. Tom Malinowski</td>\n",
       "      <td>NJ07</td>\n",
       "      <td>https://disclosures-clerk.house.gov/public_dis...</td>\n",
       "      <td>False</td>\n",
       "      <td>Democratic</td>\n",
       "    </tr>\n",
       "  </tbody>\n",
       "</table>\n",
       "</div>"
      ],
      "text/plain": [
       "      disclosure_year disclosure_date transaction_date owner ticker  \\\n",
       "9740             2021      2021-08-26       2012-06-19   NaN  BLFSD   \n",
       "\n",
       "          asset_description      type            amount       representative  \\\n",
       "9740  BioLife Solutions Inc  purchase  $1,001 - $15,000  Hon. Tom Malinowski   \n",
       "\n",
       "     district                                           ptr_link  \\\n",
       "9740     NJ07  https://disclosures-clerk.house.gov/public_dis...   \n",
       "\n",
       "      cap_gains_over_200_usd       Party  \n",
       "9740                   False  Democratic  "
      ]
     },
     "metadata": {},
     "output_type": "display_data"
    },
    {
     "data": {
      "text/plain": [
       "array(['https://disclosures-clerk.house.gov/public_disc/ptr-pdfs/2021/20019374.pdf'],\n",
       "      dtype=object)"
      ]
     },
     "execution_count": 8,
     "metadata": {},
     "output_type": "execute_result"
    }
   ],
   "source": [
    "display(example)\n",
    "example['ptr_link'].values"
   ]
  },
  {
   "attachments": {
    "image.png": {
     "image/png": "[encoded data removed]"
    }
   },
   "cell_type": "markdown",
   "metadata": {},
   "source": [
    "![image.png](attachment:image.png)\n",
    "Thus 2012 should be 2020 indeed. Note that all other information matches. (2021-08-26 is the disclosure date while 2020-07-01 is the notification date so they do not need to be the same.)"
   ]
  },
  {
   "cell_type": "markdown",
   "metadata": {},
   "source": [
    "We extract month and year values from `transaction_date` column and stored them in `transaction_month` and `transaction_year` for later graphing. "
   ]
  },
  {
   "cell_type": "code",
   "execution_count": 9,
   "metadata": {},
   "outputs": [],
   "source": [
    "# assign month and year columns\n",
    "with_party=with_party.assign(transaction_month=with_party['transaction_date'].dt.month)\n",
    "with_party=with_party.assign(transaction_year=with_party['transaction_date'].dt.year)"
   ]
  },
  {
   "cell_type": "markdown",
   "metadata": {},
   "source": [
    "We are want to know if the data is stored consistently over years. We figured that the data is insufficient in 2017 and 2018.   "
   ]
  },
  {
   "cell_type": "code",
   "execution_count": 10,
   "metadata": {},
   "outputs": [
    {
     "data": {
      "text/plain": [
       "transaction_year\n",
       "2020    6901\n",
       "2021    5207\n",
       "2019    1085\n",
       "2022    1056\n",
       "2018      22\n",
       "2017       2\n",
       "dtype: int64"
      ]
     },
     "execution_count": 10,
     "metadata": {},
     "output_type": "execute_result"
    }
   ],
   "source": [
    "with_party.value_counts('transaction_year') # check how many records in each year"
   ]
  },
  {
   "cell_type": "markdown",
   "metadata": {},
   "source": [
    "### Univariate Analysis & Intersting Aggregates"
   ]
  },
  {
   "cell_type": "markdown",
   "metadata": {},
   "source": [
    "After basic data cleaning, we are interested in political party information. Draw the bar plot of transaction counts of political affiliation. We found Democratic representatives made more transactions than Republicans from 2017 to 2022 based on the stock dataset. \\\n",
    "Plus, we'd like to know which party made more times of gains out of total transaction during the pandemic (2020). From the second graph, we can see that republicans' gains over $200 proportion is larger than that of the Democratics.\\\n",
    "Note that in the diagrams below we used groupby method to investigate some interesting aggregate information."
   ]
  },
  {
   "cell_type": "code",
   "execution_count": 11,
   "metadata": {},
   "outputs": [
    {
     "data": {
      "text/html": [
       "<div>\n",
       "<style scoped>\n",
       "    .dataframe tbody tr th:only-of-type {\n",
       "        vertical-align: middle;\n",
       "    }\n",
       "\n",
       "    .dataframe tbody tr th {\n",
       "        vertical-align: top;\n",
       "    }\n",
       "\n",
       "    .dataframe thead th {\n",
       "        text-align: right;\n",
       "    }\n",
       "</style>\n",
       "<table border=\"1\" class=\"dataframe\">\n",
       "  <thead>\n",
       "    <tr style=\"text-align: right;\">\n",
       "      <th></th>\n",
       "      <th>cap_gains_over_200_usd</th>\n",
       "    </tr>\n",
       "    <tr>\n",
       "      <th>Party</th>\n",
       "      <th></th>\n",
       "    </tr>\n",
       "  </thead>\n",
       "  <tbody>\n",
       "    <tr>\n",
       "      <th>Democratic</th>\n",
       "      <td>0.056614</td>\n",
       "    </tr>\n",
       "    <tr>\n",
       "      <th>Republican</th>\n",
       "      <td>0.095482</td>\n",
       "    </tr>\n",
       "  </tbody>\n",
       "</table>\n",
       "</div>"
      ],
      "text/plain": [
       "            cap_gains_over_200_usd\n",
       "Party                             \n",
       "Democratic                0.056614\n",
       "Republican                0.095482"
      ]
     },
     "metadata": {},
     "output_type": "display_data"
    },
    {
     "data": {
      "text/plain": [
       "Text(0, 0.5, 'over_200_usd gain proportions')"
      ]
     },
     "execution_count": 11,
     "metadata": {},
     "output_type": "execute_result"
    },
    {
     "data": {
      "image/png": "[encoded data removed]",
      "text/plain": [
       "<Figure size 864x288 with 2 Axes>"
      ]
     },
     "metadata": {
      "needs_background": "light"
     },
     "output_type": "display_data"
    }
   ],
   "source": [
    "fig, axes = plt.subplots(1, 2, figsize=(12,4))\n",
    "# representative transaction counts based on party affilation\n",
    "with_party.groupby('Party').count()['district']\\\n",
    ".plot(ax=axes[0], kind='bar',title='representative transaction count', rot=0).set_ylabel('count')\n",
    "\n",
    "# get proportion of cap_gains_over_200_usd of each party\n",
    "display(with_party[with_party['transaction_year']==2020].groupby('Party')['cap_gains_over_200_usd'].mean().to_frame())\n",
    "with_party[with_party['transaction_year']==2020].groupby('Party')['cap_gains_over_200_usd'].mean()\\\n",
    ".plot(ax=axes[1],kind='bar',title='2020 party gains proportion', rot=0).set_ylabel('over_200_usd gain proportions')  "
   ]
  },
  {
   "cell_type": "markdown",
   "metadata": {},
   "source": [
    "We want to know which companies attract representative investors the most. So we apply a sorted bar plot to display the top 10 popular tickers of transactions. We discovered that investors transacted `MSFT` the most, which is Microsoft Corporation, and `AAPL` the second, Apple Inc. Later we will investigate whether the pandemic affected certain transaction choice."
   ]
  },
  {
   "cell_type": "code",
   "execution_count": 12,
   "metadata": {},
   "outputs": [
    {
     "data": {
      "text/plain": [
       "Text(0, 0.5, 'frequency')"
      ]
     },
     "execution_count": 12,
     "metadata": {},
     "output_type": "execute_result"
    },
    {
     "data": {
      "image/png": "[encoded data removed]",
      "text/plain": [
       "<Figure size 720x360 with 1 Axes>"
      ]
     },
     "metadata": {
      "needs_background": "light"
     },
     "output_type": "display_data"
    }
   ],
   "source": [
    "# count tickers' transaction frequencies, and take first 10 largest \n",
    "with_party.value_counts('ticker').sort_values(ascending=False)[:10]\\\n",
    ".plot(kind='bar',title='top 10 popular tickers', rot=0, figsize=[10, 5]).set_ylabel('frequency')"
   ]
  },
  {
   "cell_type": "code",
   "execution_count": 13,
   "metadata": {
    "scrolled": true
   },
   "outputs": [
    {
     "data": {
      "text/plain": [
       "Text(0, 0.5, 'frequency')"
      ]
     },
     "execution_count": 13,
     "metadata": {},
     "output_type": "execute_result"
    },
    {
     "data": {
      "image/png": "[encoded data removed]",
      "text/plain": [
       "<Figure size 432x288 with 1 Axes>"
      ]
     },
     "metadata": {
      "needs_background": "light"
     },
     "output_type": "display_data"
    }
   ],
   "source": [
    "with_party[with_party['transaction_year']==2020].groupby('transaction_month').count()['transaction_date']\\\n",
    ".plot(kind='bar',title='# transactions in each month in 2020', rot=0).set_ylabel('frequency')\n",
    "# March and Nov. have the most transactions"
   ]
  },
  {
   "cell_type": "markdown",
   "metadata": {},
   "source": [
    "### Bivariate Analysis"
   ]
  },
  {
   "cell_type": "markdown",
   "metadata": {},
   "source": [
    "We are investigating two party's investment type distribution. We see that representatives in both party take purchase action the most. The action type distributions of two parties looked kind of similar, and we will discuss if they are actually similar in the hypothesis & permutation test part."
   ]
  },
  {
   "cell_type": "code",
   "execution_count": 14,
   "metadata": {},
   "outputs": [
    {
     "data": {
      "text/html": [
       "<div>\n",
       "<style scoped>\n",
       "    .dataframe tbody tr th:only-of-type {\n",
       "        vertical-align: middle;\n",
       "    }\n",
       "\n",
       "    .dataframe tbody tr th {\n",
       "        vertical-align: top;\n",
       "    }\n",
       "\n",
       "    .dataframe thead th {\n",
       "        text-align: right;\n",
       "    }\n",
       "</style>\n",
       "<table border=\"1\" class=\"dataframe\">\n",
       "  <thead>\n",
       "    <tr style=\"text-align: right;\">\n",
       "      <th>type</th>\n",
       "      <th>exchange</th>\n",
       "      <th>purchase</th>\n",
       "      <th>sale_full</th>\n",
       "      <th>sale_partial</th>\n",
       "    </tr>\n",
       "    <tr>\n",
       "      <th>Party</th>\n",
       "      <th></th>\n",
       "      <th></th>\n",
       "      <th></th>\n",
       "      <th></th>\n",
       "    </tr>\n",
       "  </thead>\n",
       "  <tbody>\n",
       "    <tr>\n",
       "      <th>Democratic</th>\n",
       "      <td>45</td>\n",
       "      <td>3792</td>\n",
       "      <td>2476</td>\n",
       "      <td>1469</td>\n",
       "    </tr>\n",
       "    <tr>\n",
       "      <th>Republican</th>\n",
       "      <td>83</td>\n",
       "      <td>3636</td>\n",
       "      <td>2086</td>\n",
       "      <td>686</td>\n",
       "    </tr>\n",
       "  </tbody>\n",
       "</table>\n",
       "</div>"
      ],
      "text/plain": [
       "type        exchange  purchase  sale_full  sale_partial\n",
       "Party                                                  \n",
       "Democratic        45      3792       2476          1469\n",
       "Republican        83      3636       2086           686"
      ]
     },
     "metadata": {},
     "output_type": "display_data"
    },
    {
     "data": {
      "text/plain": [
       "Text(0, 0.5, 'proportion')"
      ]
     },
     "execution_count": 14,
     "metadata": {},
     "output_type": "execute_result"
    },
    {
     "data": {
      "image/png": "[encoded data removed]",
      "text/plain": [
       "<Figure size 432x288 with 1 Axes>"
      ]
     },
     "metadata": {
      "needs_background": "light"
     },
     "output_type": "display_data"
    }
   ],
   "source": [
    "display(with_party.pivot_table(index='Party',columns='type',aggfunc='size'))\n",
    "(\n",
    "    with_party\n",
    "    .pivot_table(index='Party',columns='type',aggfunc='size')\n",
    "    .apply(lambda x: x/x.sum(),axis=1) # normalize to proportion\n",
    "    .plot(kind='bar', title='transaction types of the two parties', rot=0).set_ylabel('proportion')\n",
    ")"
   ]
  },
  {
   "cell_type": "markdown",
   "metadata": {},
   "source": [
    "We are also interested in the proportion of owners of each type in the two parties (and if they are similar). While the distributions of the two parties' transaction types look similar, the distributions of the two parties' owner types look much different."
   ]
  },
  {
   "cell_type": "code",
   "execution_count": 15,
   "metadata": {},
   "outputs": [
    {
     "data": {
      "text/html": [
       "<div>\n",
       "<style scoped>\n",
       "    .dataframe tbody tr th:only-of-type {\n",
       "        vertical-align: middle;\n",
       "    }\n",
       "\n",
       "    .dataframe tbody tr th {\n",
       "        vertical-align: top;\n",
       "    }\n",
       "\n",
       "    .dataframe thead th {\n",
       "        text-align: right;\n",
       "    }\n",
       "</style>\n",
       "<table border=\"1\" class=\"dataframe\">\n",
       "  <thead>\n",
       "    <tr style=\"text-align: right;\">\n",
       "      <th>owner</th>\n",
       "      <th>dependent</th>\n",
       "      <th>joint</th>\n",
       "      <th>self</th>\n",
       "    </tr>\n",
       "    <tr>\n",
       "      <th>Party</th>\n",
       "      <th></th>\n",
       "      <th></th>\n",
       "      <th></th>\n",
       "    </tr>\n",
       "  </thead>\n",
       "  <tbody>\n",
       "    <tr>\n",
       "      <th>Democratic</th>\n",
       "      <td>170</td>\n",
       "      <td>2786</td>\n",
       "      <td>2194</td>\n",
       "    </tr>\n",
       "    <tr>\n",
       "      <th>Republican</th>\n",
       "      <td>218</td>\n",
       "      <td>1632</td>\n",
       "      <td>605</td>\n",
       "    </tr>\n",
       "  </tbody>\n",
       "</table>\n",
       "</div>"
      ],
      "text/plain": [
       "owner       dependent  joint  self\n",
       "Party                             \n",
       "Democratic        170   2786  2194\n",
       "Republican        218   1632   605"
      ]
     },
     "metadata": {},
     "output_type": "display_data"
    },
    {
     "data": {
      "text/plain": [
       "Text(0, 0.5, 'proportion')"
      ]
     },
     "execution_count": 15,
     "metadata": {},
     "output_type": "execute_result"
    },
    {
     "data": {
      "image/png": "[encoded data removed]",
      "text/plain": [
       "<Figure size 432x288 with 1 Axes>"
      ]
     },
     "metadata": {
      "needs_background": "light"
     },
     "output_type": "display_data"
    }
   ],
   "source": [
    "display(with_party.pivot_table(index='Party',columns='owner',aggfunc='size'))\n",
    "(\n",
    "    with_party\n",
    "    .pivot_table(index='Party',columns='owner',aggfunc='size')\n",
    "    .apply(lambda x: x/x.sum(),axis=1) # normalize to proportion\n",
    "    .plot(kind='bar', title='owner types of the two parties', rot=0).set_ylabel('proportion')\n",
    ")"
   ]
  },
  {
   "cell_type": "markdown",
   "metadata": {},
   "source": [
    "We'd like to know are there any months that Representatives like to transact more. Since data in 2017 and 2018 is inadequate, and 2022 is not ended yet, we only consider 2019, 2020 and 2021. We find that Representatives made much more transactions in  June and December in 2019. In 2020, there is a increase amount of transactions in March, which is the time that quarantine started. Though we cannot say there is a causality, it's interesting to think about."
   ]
  },
  {
   "cell_type": "code",
   "execution_count": 31,
   "metadata": {},
   "outputs": [
    {
     "data": {
      "text/html": [
       "<div>\n",
       "<style scoped>\n",
       "    .dataframe tbody tr th:only-of-type {\n",
       "        vertical-align: middle;\n",
       "    }\n",
       "\n",
       "    .dataframe tbody tr th {\n",
       "        vertical-align: top;\n",
       "    }\n",
       "\n",
       "    .dataframe thead th {\n",
       "        text-align: right;\n",
       "    }\n",
       "</style>\n",
       "<table border=\"1\" class=\"dataframe\">\n",
       "  <thead>\n",
       "    <tr style=\"text-align: right;\">\n",
       "      <th>transaction_year</th>\n",
       "      <th>2019</th>\n",
       "      <th>2020</th>\n",
       "      <th>2021</th>\n",
       "    </tr>\n",
       "    <tr>\n",
       "      <th>transaction_month</th>\n",
       "      <th></th>\n",
       "      <th></th>\n",
       "      <th></th>\n",
       "    </tr>\n",
       "  </thead>\n",
       "  <tbody>\n",
       "    <tr>\n",
       "      <th>1</th>\n",
       "      <td>0.054378</td>\n",
       "      <td>0.074337</td>\n",
       "      <td>0.127329</td>\n",
       "    </tr>\n",
       "    <tr>\n",
       "      <th>2</th>\n",
       "      <td>0.100461</td>\n",
       "      <td>0.087958</td>\n",
       "      <td>0.191281</td>\n",
       "    </tr>\n",
       "    <tr>\n",
       "      <th>3</th>\n",
       "      <td>0.070968</td>\n",
       "      <td>0.144617</td>\n",
       "      <td>0.135971</td>\n",
       "    </tr>\n",
       "    <tr>\n",
       "      <th>4</th>\n",
       "      <td>0.091244</td>\n",
       "      <td>0.110129</td>\n",
       "      <td>0.066641</td>\n",
       "    </tr>\n",
       "    <tr>\n",
       "      <th>5</th>\n",
       "      <td>0.047926</td>\n",
       "      <td>0.060716</td>\n",
       "      <td>0.063760</td>\n",
       "    </tr>\n",
       "  </tbody>\n",
       "</table>\n",
       "</div>"
      ],
      "text/plain": [
       "transaction_year       2019      2020      2021\n",
       "transaction_month                              \n",
       "1                  0.054378  0.074337  0.127329\n",
       "2                  0.100461  0.087958  0.191281\n",
       "3                  0.070968  0.144617  0.135971\n",
       "4                  0.091244  0.110129  0.066641\n",
       "5                  0.047926  0.060716  0.063760"
      ]
     },
     "execution_count": 31,
     "metadata": {},
     "output_type": "execute_result"
    },
    {
     "data": {
      "image/png": "[encoded data removed]",
      "text/plain": [
       "<Figure size 576x432 with 1 Axes>"
      ]
     },
     "metadata": {
      "needs_background": "light"
     },
     "output_type": "display_data"
    }
   ],
   "source": [
    "# set pivot table index as transaction_month and column as transaction_year\n",
    "month_year_pivot=with_party.pivot_table(index='transaction_month',columns='transaction_year',aggfunc='size').dropna(axis=1)\\\n",
    ".apply(lambda x: x/x.sum()) # calculate the proportion of transactions over month\n",
    "\n",
    "month_year_pivot.plot(kind='bar', figsize=(8,6),title='transactions proportion over month').set_ylabel('proportion')\n",
    "month_year_pivot.head()"
   ]
  },
  {
   "cell_type": "markdown",
   "metadata": {},
   "source": [
    "### Assessment of Missingness"
   ]
  },
  {
   "cell_type": "markdown",
   "metadata": {},
   "source": [
    "In order to assess missingness, we first check which columns have large missing values."
   ]
  },
  {
   "cell_type": "code",
   "execution_count": 16,
   "metadata": {},
   "outputs": [
    {
     "data": {
      "text/plain": [
       "disclosure_year              0\n",
       "disclosure_date              0\n",
       "transaction_date             0\n",
       "owner                     6668\n",
       "ticker                    1147\n",
       "asset_description            4\n",
       "type                         0\n",
       "amount                       0\n",
       "representative               0\n",
       "district                     0\n",
       "ptr_link                     0\n",
       "cap_gains_over_200_usd       0\n",
       "Party                        0\n",
       "transaction_month            0\n",
       "transaction_year             0\n",
       "dtype: int64"
      ]
     },
     "execution_count": 16,
     "metadata": {},
     "output_type": "execute_result"
    }
   ],
   "source": [
    "with_party.isna().sum() # check missingness"
   ]
  },
  {
   "cell_type": "markdown",
   "metadata": {},
   "source": [
    "First we want to determine if there are NMAR before checking MAR/MCAR. Let's discuss about the missing values in `ticker` and `asset_description`.\n",
    "We know that tickers are the stock symbols, and asset description records the information about the stock. Ticker and asset description refers to the same company. So users can always get the information of one column from the other one.\\\n",
    "In order to know if these two columns are NMAR (missing due to its own value), we want to know if there are rows that missing both information at the same time. We can see that there are no rows missing values in two columns at the same time. It means we can always find the stock company information by chekcing the other non-missing column. So we can't say `ticker` or `asset_description` are NMAR."
   ]
  },
  {
   "cell_type": "code",
   "execution_count": 674,
   "metadata": {
    "scrolled": true
   },
   "outputs": [
    {
     "data": {
      "text/html": [
       "<div>\n",
       "<style scoped>\n",
       "    .dataframe tbody tr th:only-of-type {\n",
       "        vertical-align: middle;\n",
       "    }\n",
       "\n",
       "    .dataframe tbody tr th {\n",
       "        vertical-align: top;\n",
       "    }\n",
       "\n",
       "    .dataframe thead th {\n",
       "        text-align: right;\n",
       "    }\n",
       "</style>\n",
       "<table border=\"1\" class=\"dataframe\">\n",
       "  <thead>\n",
       "    <tr style=\"text-align: right;\">\n",
       "      <th></th>\n",
       "      <th>disclosure_year</th>\n",
       "      <th>disclosure_date</th>\n",
       "      <th>transaction_date</th>\n",
       "      <th>owner</th>\n",
       "      <th>ticker</th>\n",
       "      <th>asset_description</th>\n",
       "      <th>type</th>\n",
       "      <th>amount</th>\n",
       "      <th>representative</th>\n",
       "      <th>district</th>\n",
       "      <th>ptr_link</th>\n",
       "      <th>cap_gains_over_200_usd</th>\n",
       "      <th>Party</th>\n",
       "      <th>transaction_month</th>\n",
       "      <th>transaction_year</th>\n",
       "    </tr>\n",
       "  </thead>\n",
       "  <tbody>\n",
       "  </tbody>\n",
       "</table>\n",
       "</div>"
      ],
      "text/plain": [
       "Empty DataFrame\n",
       "Columns: [disclosure_year, disclosure_date, transaction_date, owner, ticker, asset_description, type, amount, representative, district, ptr_link, cap_gains_over_200_usd, Party, transaction_month, transaction_year]\n",
       "Index: []"
      ]
     },
     "execution_count": 674,
     "metadata": {},
     "output_type": "execute_result"
    }
   ],
   "source": [
    "# take a look at missed ticker rows\n",
    "with_party[(with_party['ticker'].isna())&(with_party['asset_description'].isna())].head() "
   ]
  },
  {
   "cell_type": "markdown",
   "metadata": {},
   "source": [
    "Given `Zimmer Biomet Holdings` as an example, we have searched online that it has ticker named 'ZBH'. So the stock company information can be extracted from its asset_description. In another word, the value in `ticker` depends on `asset_descprition`, and vice versa. Thus, they are not NMAR"
   ]
  },
  {
   "cell_type": "code",
   "execution_count": 678,
   "metadata": {
    "scrolled": false
   },
   "outputs": [
    {
     "data": {
      "text/html": [
       "<div>\n",
       "<style scoped>\n",
       "    .dataframe tbody tr th:only-of-type {\n",
       "        vertical-align: middle;\n",
       "    }\n",
       "\n",
       "    .dataframe tbody tr th {\n",
       "        vertical-align: top;\n",
       "    }\n",
       "\n",
       "    .dataframe thead th {\n",
       "        text-align: right;\n",
       "    }\n",
       "</style>\n",
       "<table border=\"1\" class=\"dataframe\">\n",
       "  <thead>\n",
       "    <tr style=\"text-align: right;\">\n",
       "      <th></th>\n",
       "      <th>disclosure_year</th>\n",
       "      <th>disclosure_date</th>\n",
       "      <th>transaction_date</th>\n",
       "      <th>owner</th>\n",
       "      <th>ticker</th>\n",
       "      <th>asset_description</th>\n",
       "      <th>type</th>\n",
       "      <th>amount</th>\n",
       "      <th>representative</th>\n",
       "      <th>district</th>\n",
       "      <th>ptr_link</th>\n",
       "      <th>cap_gains_over_200_usd</th>\n",
       "      <th>Party</th>\n",
       "      <th>transaction_month</th>\n",
       "      <th>transaction_year</th>\n",
       "    </tr>\n",
       "  </thead>\n",
       "  <tbody>\n",
       "    <tr>\n",
       "      <th>56</th>\n",
       "      <td>2020</td>\n",
       "      <td>2020-09-22</td>\n",
       "      <td>2020-08-17</td>\n",
       "      <td>NaN</td>\n",
       "      <td>NaN</td>\n",
       "      <td>Metallic Minerals Corp.</td>\n",
       "      <td>sale_partial</td>\n",
       "      <td>$100,001 - $250,000</td>\n",
       "      <td>Mr. TJ John (Tj) Cox</td>\n",
       "      <td>CA21</td>\n",
       "      <td>https://disclosures-clerk.house.gov/public_dis...</td>\n",
       "      <td>True</td>\n",
       "      <td>Republican</td>\n",
       "      <td>8</td>\n",
       "      <td>2020</td>\n",
       "    </tr>\n",
       "    <tr>\n",
       "      <th>57</th>\n",
       "      <td>2021</td>\n",
       "      <td>2021-03-23</td>\n",
       "      <td>2021-01-27</td>\n",
       "      <td>self</td>\n",
       "      <td>NaN</td>\n",
       "      <td>Zimmer Biomet Holdings</td>\n",
       "      <td>sale_partial</td>\n",
       "      <td>$1,001 - $15,000</td>\n",
       "      <td>Hon. Alan S. Lowenthal</td>\n",
       "      <td>CA47</td>\n",
       "      <td>https://disclosures-clerk.house.gov/public_dis...</td>\n",
       "      <td>False</td>\n",
       "      <td>Democratic</td>\n",
       "      <td>1</td>\n",
       "      <td>2021</td>\n",
       "    </tr>\n",
       "    <tr>\n",
       "      <th>58</th>\n",
       "      <td>2021</td>\n",
       "      <td>2021-03-23</td>\n",
       "      <td>2021-02-08</td>\n",
       "      <td>NaN</td>\n",
       "      <td>NaN</td>\n",
       "      <td>Zimmer Biomet Holdings</td>\n",
       "      <td>sale_full</td>\n",
       "      <td>$1,001 - $15,000</td>\n",
       "      <td>Hon. Alan S. Lowenthal</td>\n",
       "      <td>CA47</td>\n",
       "      <td>https://disclosures-clerk.house.gov/public_dis...</td>\n",
       "      <td>False</td>\n",
       "      <td>Democratic</td>\n",
       "      <td>2</td>\n",
       "      <td>2021</td>\n",
       "    </tr>\n",
       "    <tr>\n",
       "      <th>59</th>\n",
       "      <td>2021</td>\n",
       "      <td>2021-03-23</td>\n",
       "      <td>2021-02-08</td>\n",
       "      <td>self</td>\n",
       "      <td>NaN</td>\n",
       "      <td>Zimmer Biomet Holdings</td>\n",
       "      <td>purchase</td>\n",
       "      <td>$1,001 - $15,000</td>\n",
       "      <td>Hon. Alan S. Lowenthal</td>\n",
       "      <td>CA47</td>\n",
       "      <td>https://disclosures-clerk.house.gov/public_dis...</td>\n",
       "      <td>False</td>\n",
       "      <td>Democratic</td>\n",
       "      <td>2</td>\n",
       "      <td>2021</td>\n",
       "    </tr>\n",
       "    <tr>\n",
       "      <th>61</th>\n",
       "      <td>2021</td>\n",
       "      <td>2021-03-23</td>\n",
       "      <td>2021-02-19</td>\n",
       "      <td>self</td>\n",
       "      <td>NaN</td>\n",
       "      <td>Celegene Corp</td>\n",
       "      <td>sale_full</td>\n",
       "      <td>$15,001 - $50,000</td>\n",
       "      <td>Hon. Alan S. Lowenthal</td>\n",
       "      <td>CA47</td>\n",
       "      <td>https://disclosures-clerk.house.gov/public_dis...</td>\n",
       "      <td>False</td>\n",
       "      <td>Democratic</td>\n",
       "      <td>2</td>\n",
       "      <td>2021</td>\n",
       "    </tr>\n",
       "  </tbody>\n",
       "</table>\n",
       "</div>"
      ],
      "text/plain": [
       "    disclosure_year disclosure_date transaction_date owner ticker  \\\n",
       "56             2020      2020-09-22       2020-08-17   NaN    NaN   \n",
       "57             2021      2021-03-23       2021-01-27  self    NaN   \n",
       "58             2021      2021-03-23       2021-02-08   NaN    NaN   \n",
       "59             2021      2021-03-23       2021-02-08  self    NaN   \n",
       "61             2021      2021-03-23       2021-02-19  self    NaN   \n",
       "\n",
       "          asset_description          type               amount  \\\n",
       "56  Metallic Minerals Corp.  sale_partial  $100,001 - $250,000   \n",
       "57   Zimmer Biomet Holdings  sale_partial     $1,001 - $15,000   \n",
       "58   Zimmer Biomet Holdings     sale_full     $1,001 - $15,000   \n",
       "59   Zimmer Biomet Holdings      purchase     $1,001 - $15,000   \n",
       "61            Celegene Corp     sale_full    $15,001 - $50,000   \n",
       "\n",
       "            representative district  \\\n",
       "56    Mr. TJ John (Tj) Cox     CA21   \n",
       "57  Hon. Alan S. Lowenthal     CA47   \n",
       "58  Hon. Alan S. Lowenthal     CA47   \n",
       "59  Hon. Alan S. Lowenthal     CA47   \n",
       "61  Hon. Alan S. Lowenthal     CA47   \n",
       "\n",
       "                                             ptr_link  cap_gains_over_200_usd  \\\n",
       "56  https://disclosures-clerk.house.gov/public_dis...                    True   \n",
       "57  https://disclosures-clerk.house.gov/public_dis...                   False   \n",
       "58  https://disclosures-clerk.house.gov/public_dis...                   False   \n",
       "59  https://disclosures-clerk.house.gov/public_dis...                   False   \n",
       "61  https://disclosures-clerk.house.gov/public_dis...                   False   \n",
       "\n",
       "         Party  transaction_month  transaction_year  \n",
       "56  Republican                  8              2020  \n",
       "57  Democratic                  1              2021  \n",
       "58  Democratic                  2              2021  \n",
       "59  Democratic                  2              2021  \n",
       "61  Democratic                  2              2021  "
      ]
     },
     "execution_count": 678,
     "metadata": {},
     "output_type": "execute_result"
    }
   ],
   "source": [
    "with_party[with_party['ticker'].isna()].head() # take a look at missed ticker rows"
   ]
  },
  {
   "cell_type": "markdown",
   "metadata": {},
   "source": [
    "Note that `owner` has a 6668 missing values, almost half of the values in the owner column are missing, which is non-trivial. So we do need to check if the missingness of the owner column depend on some other columns or not.\\\n",
    "Before that, we don't think it's MD, because all transitions have owner types. Then is it NMAR? We don't think it is NMAR either, the data collectors are the third-party and objective, there's no reason for them to hide `owner` information from public."
   ]
  },
  {
   "cell_type": "code",
   "execution_count": 32,
   "metadata": {},
   "outputs": [
    {
     "data": {
      "text/plain": [
       "0.46717578644994046"
      ]
     },
     "execution_count": 32,
     "metadata": {},
     "output_type": "execute_result"
    }
   ],
   "source": [
    "with_party['owner'].isna().mean() # proportion of missingness in owner"
   ]
  },
  {
   "cell_type": "markdown",
   "metadata": {},
   "source": [
    "We assign a new column `owner_null` to store bool value of missingness in `owner`. And use `owner_null` dataframe in this section."
   ]
  },
  {
   "cell_type": "code",
   "execution_count": 18,
   "metadata": {},
   "outputs": [
    {
     "data": {
      "text/html": [
       "<div>\n",
       "<style scoped>\n",
       "    .dataframe tbody tr th:only-of-type {\n",
       "        vertical-align: middle;\n",
       "    }\n",
       "\n",
       "    .dataframe tbody tr th {\n",
       "        vertical-align: top;\n",
       "    }\n",
       "\n",
       "    .dataframe thead th {\n",
       "        text-align: right;\n",
       "    }\n",
       "</style>\n",
       "<table border=\"1\" class=\"dataframe\">\n",
       "  <thead>\n",
       "    <tr style=\"text-align: right;\">\n",
       "      <th></th>\n",
       "      <th>disclosure_year</th>\n",
       "      <th>disclosure_date</th>\n",
       "      <th>transaction_date</th>\n",
       "      <th>owner</th>\n",
       "      <th>ticker</th>\n",
       "      <th>asset_description</th>\n",
       "      <th>type</th>\n",
       "      <th>amount</th>\n",
       "      <th>representative</th>\n",
       "      <th>district</th>\n",
       "      <th>ptr_link</th>\n",
       "      <th>cap_gains_over_200_usd</th>\n",
       "      <th>Party</th>\n",
       "      <th>transaction_month</th>\n",
       "      <th>transaction_year</th>\n",
       "      <th>owner_null</th>\n",
       "    </tr>\n",
       "  </thead>\n",
       "  <tbody>\n",
       "    <tr>\n",
       "      <th>0</th>\n",
       "      <td>2021</td>\n",
       "      <td>2021-10-04</td>\n",
       "      <td>2021-09-27</td>\n",
       "      <td>joint</td>\n",
       "      <td>BP</td>\n",
       "      <td>BP plc</td>\n",
       "      <td>purchase</td>\n",
       "      <td>$1,001 - $15,000</td>\n",
       "      <td>Hon. Virginia Foxx</td>\n",
       "      <td>NC05</td>\n",
       "      <td>https://disclosures-clerk.house.gov/public_dis...</td>\n",
       "      <td>False</td>\n",
       "      <td>Republican</td>\n",
       "      <td>9</td>\n",
       "      <td>2021</td>\n",
       "      <td>False</td>\n",
       "    </tr>\n",
       "    <tr>\n",
       "      <th>1</th>\n",
       "      <td>2021</td>\n",
       "      <td>2021-10-04</td>\n",
       "      <td>2021-09-13</td>\n",
       "      <td>joint</td>\n",
       "      <td>XOM</td>\n",
       "      <td>Exxon Mobil Corporation</td>\n",
       "      <td>purchase</td>\n",
       "      <td>$1,001 - $15,000</td>\n",
       "      <td>Hon. Virginia Foxx</td>\n",
       "      <td>NC05</td>\n",
       "      <td>https://disclosures-clerk.house.gov/public_dis...</td>\n",
       "      <td>False</td>\n",
       "      <td>Republican</td>\n",
       "      <td>9</td>\n",
       "      <td>2021</td>\n",
       "      <td>False</td>\n",
       "    </tr>\n",
       "    <tr>\n",
       "      <th>2</th>\n",
       "      <td>2021</td>\n",
       "      <td>2021-10-04</td>\n",
       "      <td>2021-09-10</td>\n",
       "      <td>joint</td>\n",
       "      <td>ILPT</td>\n",
       "      <td>Industrial Logistics Properties Trust - Common...</td>\n",
       "      <td>purchase</td>\n",
       "      <td>$15,001 - $50,000</td>\n",
       "      <td>Hon. Virginia Foxx</td>\n",
       "      <td>NC05</td>\n",
       "      <td>https://disclosures-clerk.house.gov/public_dis...</td>\n",
       "      <td>False</td>\n",
       "      <td>Republican</td>\n",
       "      <td>9</td>\n",
       "      <td>2021</td>\n",
       "      <td>False</td>\n",
       "    </tr>\n",
       "    <tr>\n",
       "      <th>3</th>\n",
       "      <td>2021</td>\n",
       "      <td>2021-10-04</td>\n",
       "      <td>2021-09-28</td>\n",
       "      <td>joint</td>\n",
       "      <td>PM</td>\n",
       "      <td>Phillip Morris International Inc</td>\n",
       "      <td>purchase</td>\n",
       "      <td>$15,001 - $50,000</td>\n",
       "      <td>Hon. Virginia Foxx</td>\n",
       "      <td>NC05</td>\n",
       "      <td>https://disclosures-clerk.house.gov/public_dis...</td>\n",
       "      <td>False</td>\n",
       "      <td>Republican</td>\n",
       "      <td>9</td>\n",
       "      <td>2021</td>\n",
       "      <td>False</td>\n",
       "    </tr>\n",
       "    <tr>\n",
       "      <th>4</th>\n",
       "      <td>2021</td>\n",
       "      <td>2021-10-04</td>\n",
       "      <td>2021-09-17</td>\n",
       "      <td>self</td>\n",
       "      <td>BLK</td>\n",
       "      <td>BlackRock Inc</td>\n",
       "      <td>sale_partial</td>\n",
       "      <td>$1,001 - $15,000</td>\n",
       "      <td>Hon. Alan S. Lowenthal</td>\n",
       "      <td>CA47</td>\n",
       "      <td>https://disclosures-clerk.house.gov/public_dis...</td>\n",
       "      <td>False</td>\n",
       "      <td>Democratic</td>\n",
       "      <td>9</td>\n",
       "      <td>2021</td>\n",
       "      <td>False</td>\n",
       "    </tr>\n",
       "  </tbody>\n",
       "</table>\n",
       "</div>"
      ],
      "text/plain": [
       "   disclosure_year disclosure_date transaction_date  owner ticker  \\\n",
       "0             2021      2021-10-04       2021-09-27  joint     BP   \n",
       "1             2021      2021-10-04       2021-09-13  joint    XOM   \n",
       "2             2021      2021-10-04       2021-09-10  joint   ILPT   \n",
       "3             2021      2021-10-04       2021-09-28  joint     PM   \n",
       "4             2021      2021-10-04       2021-09-17   self    BLK   \n",
       "\n",
       "                                   asset_description          type  \\\n",
       "0                                             BP plc      purchase   \n",
       "1                            Exxon Mobil Corporation      purchase   \n",
       "2  Industrial Logistics Properties Trust - Common...      purchase   \n",
       "3                   Phillip Morris International Inc      purchase   \n",
       "4                                      BlackRock Inc  sale_partial   \n",
       "\n",
       "              amount          representative district  \\\n",
       "0   $1,001 - $15,000      Hon. Virginia Foxx     NC05   \n",
       "1   $1,001 - $15,000      Hon. Virginia Foxx     NC05   \n",
       "2  $15,001 - $50,000      Hon. Virginia Foxx     NC05   \n",
       "3  $15,001 - $50,000      Hon. Virginia Foxx     NC05   \n",
       "4   $1,001 - $15,000  Hon. Alan S. Lowenthal     CA47   \n",
       "\n",
       "                                            ptr_link  cap_gains_over_200_usd  \\\n",
       "0  https://disclosures-clerk.house.gov/public_dis...                   False   \n",
       "1  https://disclosures-clerk.house.gov/public_dis...                   False   \n",
       "2  https://disclosures-clerk.house.gov/public_dis...                   False   \n",
       "3  https://disclosures-clerk.house.gov/public_dis...                   False   \n",
       "4  https://disclosures-clerk.house.gov/public_dis...                   False   \n",
       "\n",
       "        Party  transaction_month  transaction_year  owner_null  \n",
       "0  Republican                  9              2021       False  \n",
       "1  Republican                  9              2021       False  \n",
       "2  Republican                  9              2021       False  \n",
       "3  Republican                  9              2021       False  \n",
       "4  Democratic                  9              2021       False  "
      ]
     },
     "execution_count": 18,
     "metadata": {},
     "output_type": "execute_result"
    }
   ],
   "source": [
    "owner_null=with_party.assign(owner_null=with_party['owner'].isna())\n",
    "owner_null.head()"
   ]
  },
  {
   "cell_type": "markdown",
   "metadata": {},
   "source": [
    "We'd like to create a function to check relationship between missing values in `owner` column and values in another input column. We use permutation test to decide if the missingness of the values in the owner column depends on some other column (and thus is MAR)."
   ]
  },
  {
   "cell_type": "code",
   "execution_count": 19,
   "metadata": {
    "scrolled": false
   },
   "outputs": [],
   "source": [
    "def check_missingness(other_col): \n",
    "    '''\n",
    "    The function takes in another column's name, other_col, and do permutation test to check whether missingness \n",
    "    of owner depends on other_col. \n",
    "    '''\n",
    "    # assign obs to store observed tvd of distributions of other_col with missed and not missed owner value\n",
    "    obs=owner_null.pivot_table(index='owner_null', columns=other_col, aggfunc='size')\\\n",
    "    .apply(lambda x: x / x.sum(), axis=1)\\\n",
    "    .diff().iloc[-1, :].abs().sum() / 2\n",
    "    # assign shuffled to be copy of owner_null, so we can shuffle owner_null column without changing original df\n",
    "    shuffled=owner_null.copy()\n",
    "    n_repetitions = 500\n",
    "    tvds = []\n",
    "    # do permutation for n_repetition times\n",
    "    for _ in range(n_repetitions):\n",
    "        # Shuffling missing owner and assigning back to the DataFrame\n",
    "        shuffled['owner_null'] = np.random.permutation(shuffled['owner_null'])\n",
    "\n",
    "        # generate pivot table of distributions of other_col indexed by missingness of owner column\n",
    "        pivoted = (\n",
    "            shuffled\n",
    "            .pivot_table(index='owner_null', columns=other_col, aggfunc='size')\n",
    "            .apply(lambda x: x / x.sum(), axis=1)\n",
    "        )\n",
    "        # Computing and storing TVD of distributions based on shuffled owner missingness\n",
    "        tvd = pivoted.diff().iloc[-1,:].abs().sum() / 2\n",
    "        tvds.append(tvd)\n",
    "    # calculate p-val which is proportion of tvd that beyond observed tvd\n",
    "    pval=np.mean(np.array(tvds)>obs)\n",
    "    return obs, tvds, pval"
   ]
  },
  {
   "cell_type": "markdown",
   "metadata": {},
   "source": [
    "### Owner vs. Party"
   ]
  },
  {
   "cell_type": "markdown",
   "metadata": {},
   "source": [
    "We want to know if missingness of owner depends on the party of the representatives. First, take a look at observed distribution of Party from a pivot table."
   ]
  },
  {
   "cell_type": "code",
   "execution_count": 20,
   "metadata": {},
   "outputs": [
    {
     "data": {
      "text/html": [
       "<div>\n",
       "<style scoped>\n",
       "    .dataframe tbody tr th:only-of-type {\n",
       "        vertical-align: middle;\n",
       "    }\n",
       "\n",
       "    .dataframe tbody tr th {\n",
       "        vertical-align: top;\n",
       "    }\n",
       "\n",
       "    .dataframe thead th {\n",
       "        text-align: right;\n",
       "    }\n",
       "</style>\n",
       "<table border=\"1\" class=\"dataframe\">\n",
       "  <thead>\n",
       "    <tr style=\"text-align: right;\">\n",
       "      <th>owner_null</th>\n",
       "      <th>False</th>\n",
       "      <th>True</th>\n",
       "    </tr>\n",
       "    <tr>\n",
       "      <th>Party</th>\n",
       "      <th></th>\n",
       "      <th></th>\n",
       "    </tr>\n",
       "  </thead>\n",
       "  <tbody>\n",
       "    <tr>\n",
       "      <th>Democratic</th>\n",
       "      <td>0.677186</td>\n",
       "      <td>0.394721</td>\n",
       "    </tr>\n",
       "    <tr>\n",
       "      <th>Republican</th>\n",
       "      <td>0.322814</td>\n",
       "      <td>0.605279</td>\n",
       "    </tr>\n",
       "  </tbody>\n",
       "</table>\n",
       "</div>"
      ],
      "text/plain": [
       "owner_null     False      True\n",
       "Party                         \n",
       "Democratic  0.677186  0.394721\n",
       "Republican  0.322814  0.605279"
      ]
     },
     "execution_count": 20,
     "metadata": {},
     "output_type": "execute_result"
    }
   ],
   "source": [
    "# proportion of party based on whether owner is missed or not\n",
    "party_dist = owner_null.pivot_table(index='owner_null', columns='Party', aggfunc='size') \n",
    "party_dist = party_dist.T / party_dist.sum(axis=1) # observed proportion, will calculate observed tvd from it\n",
    "party_dist"
   ]
  },
  {
   "cell_type": "markdown",
   "metadata": {},
   "source": [
    "By drawing the plot of simulated TVDs and the observed TVD, we found the observed TVD is much greater. Therefore, we believe the missingness of the values in the owner column do depend on the `Party` column."
   ]
  },
  {
   "cell_type": "code",
   "execution_count": 36,
   "metadata": {},
   "outputs": [
    {
     "data": {
      "text/plain": [
       "<matplotlib.legend.Legend at 0x7fbc39c23df0>"
      ]
     },
     "execution_count": 36,
     "metadata": {},
     "output_type": "execute_result"
    },
    {
     "data": {
      "image/png": "[encoded data removed]",
      "text/plain": [
       "<Figure size 1440x360 with 1 Axes>"
      ]
     },
     "metadata": {
      "needs_background": "light"
     },
     "output_type": "display_data"
    }
   ],
   "source": [
    "obs, tvds, pval = check_missingness('Party') # do permutation test on owner to see if Party have different distribution\n",
    "plt.figure(figsize=(20,5))\n",
    "pd.Series(tvds).plot(kind='hist', density=True, ec='w', bins=10, title=f'p-value: {pval}', label='Simulated TVDs')\n",
    "plt.axvline(x=obs, color='red', linewidth=4, label='Observed TVD')\n",
    "plt.legend()"
   ]
  },
  {
   "cell_type": "markdown",
   "metadata": {},
   "source": [
    "We check that the p value is 0, which is smaller than 0.05 and agrees with the above result.\\\n",
    "We reject H0, `Party` values of missed owner rows and `Party` values of non-missed owner rows are not from same distributions. So missingness of `owner` depends on `Party`"
   ]
  },
  {
   "cell_type": "code",
   "execution_count": 22,
   "metadata": {},
   "outputs": [
    {
     "data": {
      "text/plain": [
       "0.0"
      ]
     },
     "execution_count": 22,
     "metadata": {},
     "output_type": "execute_result"
    }
   ],
   "source": [
    "pval"
   ]
  },
  {
   "cell_type": "markdown",
   "metadata": {},
   "source": [
    "### Owner vs. type"
   ]
  },
  {
   "cell_type": "markdown",
   "metadata": {},
   "source": [
    "We also want to know if missingness of owner depends on the transaction types. First, take a look at observed distribution of `type` from a pivot table."
   ]
  },
  {
   "cell_type": "code",
   "execution_count": 38,
   "metadata": {},
   "outputs": [
    {
     "data": {
      "text/html": [
       "<div>\n",
       "<style scoped>\n",
       "    .dataframe tbody tr th:only-of-type {\n",
       "        vertical-align: middle;\n",
       "    }\n",
       "\n",
       "    .dataframe tbody tr th {\n",
       "        vertical-align: top;\n",
       "    }\n",
       "\n",
       "    .dataframe thead th {\n",
       "        text-align: right;\n",
       "    }\n",
       "</style>\n",
       "<table border=\"1\" class=\"dataframe\">\n",
       "  <thead>\n",
       "    <tr style=\"text-align: right;\">\n",
       "      <th>owner_null</th>\n",
       "      <th>False</th>\n",
       "      <th>True</th>\n",
       "    </tr>\n",
       "    <tr>\n",
       "      <th>type</th>\n",
       "      <th></th>\n",
       "      <th></th>\n",
       "    </tr>\n",
       "  </thead>\n",
       "  <tbody>\n",
       "    <tr>\n",
       "      <th>exchange</th>\n",
       "      <td>0.007627</td>\n",
       "      <td>0.010498</td>\n",
       "    </tr>\n",
       "    <tr>\n",
       "      <th>purchase</th>\n",
       "      <td>0.548455</td>\n",
       "      <td>0.488452</td>\n",
       "    </tr>\n",
       "    <tr>\n",
       "      <th>sale_full</th>\n",
       "      <td>0.287179</td>\n",
       "      <td>0.356629</td>\n",
       "    </tr>\n",
       "    <tr>\n",
       "      <th>sale_partial</th>\n",
       "      <td>0.156739</td>\n",
       "      <td>0.144421</td>\n",
       "    </tr>\n",
       "  </tbody>\n",
       "</table>\n",
       "</div>"
      ],
      "text/plain": [
       "owner_null       False      True\n",
       "type                            \n",
       "exchange      0.007627  0.010498\n",
       "purchase      0.548455  0.488452\n",
       "sale_full     0.287179  0.356629\n",
       "sale_partial  0.156739  0.144421"
      ]
     },
     "execution_count": 38,
     "metadata": {},
     "output_type": "execute_result"
    }
   ],
   "source": [
    "# proportion of type based on whether owner is missed or not\n",
    "type_dist = owner_null.pivot_table(index='owner_null', columns='type', aggfunc='size')\n",
    "type_dist = type_dist.T / type_dist.sum(axis=1)\n",
    "type_dist"
   ]
  },
  {
   "cell_type": "markdown",
   "metadata": {},
   "source": [
    "By drawing the plot of simulated TVDs and the observed TVD, we found the observed TVD is much greater. Therefore, we believe the missingness of the values in the owner column do depend on the type column."
   ]
  },
  {
   "cell_type": "code",
   "execution_count": 24,
   "metadata": {},
   "outputs": [
    {
     "data": {
      "text/plain": [
       "<matplotlib.legend.Legend at 0x7fbc389b7eb0>"
      ]
     },
     "execution_count": 24,
     "metadata": {},
     "output_type": "execute_result"
    },
    {
     "data": {
      "image/png": "[encoded data removed]",
      "text/plain": [
       "<Figure size 1440x360 with 1 Axes>"
      ]
     },
     "metadata": {
      "needs_background": "light"
     },
     "output_type": "display_data"
    }
   ],
   "source": [
    "obs, tvds, pval = check_missingness('type') # do permutation test on owner to see if type have different distribution\n",
    "plt.figure(figsize=(20,5))\n",
    "pd.Series(tvds).plot(kind='hist', density=True, ec='w', bins=10, title=f'p-value: {pval}', label='Simulated TVDs')\n",
    "plt.axvline(x=obs, color='red', linewidth=4, label='Observed TVD')\n",
    "plt.legend()"
   ]
  },
  {
   "cell_type": "markdown",
   "metadata": {},
   "source": [
    "We check that the p value is 0, which is smaller than 0.05 and agrees with the above result.\\\n",
    "We reject H0, `type` values of missed owner rows and `type` values of non-missed owner rows are not from same distributions. So missingness of `owner` depends on `type`"
   ]
  },
  {
   "cell_type": "code",
   "execution_count": 25,
   "metadata": {},
   "outputs": [
    {
     "data": {
      "text/plain": [
       "0.0"
      ]
     },
     "execution_count": 25,
     "metadata": {},
     "output_type": "execute_result"
    }
   ],
   "source": [
    "pval"
   ]
  },
  {
   "cell_type": "markdown",
   "metadata": {},
   "source": [
    "### Owner vs. cap_gains_over_200_usd"
   ]
  },
  {
   "cell_type": "markdown",
   "metadata": {},
   "source": [
    "We want to know if missingness of owner depends on the `cap_gains_over_200_usd column`. Take a look at observed distributions of `cap_gains_over_200_usd column` based on missingness in `owner`."
   ]
  },
  {
   "cell_type": "code",
   "execution_count": 39,
   "metadata": {},
   "outputs": [
    {
     "data": {
      "text/html": [
       "<div>\n",
       "<style scoped>\n",
       "    .dataframe tbody tr th:only-of-type {\n",
       "        vertical-align: middle;\n",
       "    }\n",
       "\n",
       "    .dataframe tbody tr th {\n",
       "        vertical-align: top;\n",
       "    }\n",
       "\n",
       "    .dataframe thead th {\n",
       "        text-align: right;\n",
       "    }\n",
       "</style>\n",
       "<table border=\"1\" class=\"dataframe\">\n",
       "  <thead>\n",
       "    <tr style=\"text-align: right;\">\n",
       "      <th>owner_null</th>\n",
       "      <th>False</th>\n",
       "      <th>True</th>\n",
       "    </tr>\n",
       "    <tr>\n",
       "      <th>cap_gains_over_200_usd</th>\n",
       "      <th></th>\n",
       "      <th></th>\n",
       "    </tr>\n",
       "  </thead>\n",
       "  <tbody>\n",
       "    <tr>\n",
       "      <th>False</th>\n",
       "      <td>0.95503</td>\n",
       "      <td>0.906719</td>\n",
       "    </tr>\n",
       "    <tr>\n",
       "      <th>True</th>\n",
       "      <td>0.04497</td>\n",
       "      <td>0.093281</td>\n",
       "    </tr>\n",
       "  </tbody>\n",
       "</table>\n",
       "</div>"
      ],
      "text/plain": [
       "owner_null                False      True\n",
       "cap_gains_over_200_usd                   \n",
       "False                   0.95503  0.906719\n",
       "True                    0.04497  0.093281"
      ]
     },
     "execution_count": 39,
     "metadata": {},
     "output_type": "execute_result"
    }
   ],
   "source": [
    "# distribution of whether cap gain over 200 under the condition of missingness in owner\n",
    "cap_dist = owner_null.pivot_table(index='owner_null', columns='cap_gains_over_200_usd', aggfunc='size')\n",
    "cap_dist = cap_dist.T / cap_dist.sum(axis=1)\n",
    "cap_dist"
   ]
  },
  {
   "cell_type": "markdown",
   "metadata": {},
   "source": [
    "By drawing the plot of simulated TVDs and the observed TVD, we found the observed TVD is much greater. Therefore, we believe the missingness of the values in the owner column do depend on the `cap_gains_over_200_usd` column."
   ]
  },
  {
   "cell_type": "code",
   "execution_count": 27,
   "metadata": {},
   "outputs": [
    {
     "data": {
      "text/plain": [
       "<matplotlib.legend.Legend at 0x7fbc5c0580d0>"
      ]
     },
     "execution_count": 27,
     "metadata": {},
     "output_type": "execute_result"
    },
    {
     "data": {
      "image/png": "[encoded data removed]",
      "text/plain": [
       "<Figure size 1440x360 with 1 Axes>"
      ]
     },
     "metadata": {
      "needs_background": "light"
     },
     "output_type": "display_data"
    }
   ],
   "source": [
    "obs, tvds, pval = check_missingness('cap_gains_over_200_usd') # do permutation test on owner to see if over_200 have different distribution\n",
    "plt.figure(figsize=(20,5))\n",
    "pd.Series(tvds).plot(kind='hist', density=True, ec='w', bins=10, title=f'p-value: {pval}', label='Simulated TVDs')\n",
    "plt.axvline(x=obs, color='red', linewidth=4, label='Observed TVD')\n",
    "plt.legend()"
   ]
  },
  {
   "cell_type": "markdown",
   "metadata": {},
   "source": [
    "We check that the p value is 0, which is still smaller than 0.05 and agrees with the above result.\\\n",
    "We reject H0, `cap_gains_over_200_usd` values of missed owner rows and `cap_gains_over_200_usd` values of non-missed owner rows are not from same distributions. So missingness of `owner` depends on `cap_gains_over_200_usd`"
   ]
  },
  {
   "cell_type": "code",
   "execution_count": 28,
   "metadata": {},
   "outputs": [
    {
     "data": {
      "text/plain": [
       "0.0"
      ]
     },
     "execution_count": 28,
     "metadata": {},
     "output_type": "execute_result"
    }
   ],
   "source": [
    "pval"
   ]
  },
  {
   "cell_type": "markdown",
   "metadata": {},
   "source": [
    "Since we checked that missingness of `owner` depends on `Party`, `type` and `cap_gains_over_200_usd`, we conclude that missingness of `owner` is MAR."
   ]
  },
  {
   "cell_type": "markdown",
   "metadata": {},
   "source": [
    "### Hypothesis Testing"
   ]
  },
  {
   "cell_type": "markdown",
   "metadata": {},
   "source": [
    "### Amazon transacted more in 2020?"
   ]
  },
  {
   "cell_type": "markdown",
   "metadata": {},
   "source": [
    "After checking missingness type, we'd like to grasp more information between columns. We have seen that Amazon is one of the most popular companies representatives like to invest on from top_10_popular_ticker graph. During the pandemic, people rely more on shipments, so does Amazon stock attract investors more? We want to explore whether Amazon stock is transacted more often in 2020 than in other years."
   ]
  },
  {
   "cell_type": "markdown",
   "metadata": {},
   "source": [
    "Since different year has different amount of transactions, we normalize the amount of Amazon transaction to the proportion of Amazon transaction out of all transactions. So if the proportion in 2020 is significantly larger, we can conclude that Amazon's stock attracts more Representatives. "
   ]
  },
  {
   "cell_type": "markdown",
   "metadata": {},
   "source": [
    "H0: proportion of amazon transaction in 2020 = proportion of amazon transactions in average\\\n",
    "H1: proportion of amazon transaction in 2020 > proportion of amazon transactions in average"
   ]
  },
  {
   "cell_type": "markdown",
   "metadata": {},
   "source": [
    "Since Amazon transaction in 2020 is part of transactions in all years, we do hypothesis test by drawing random samples, and compute the proportion of amazon in those samples. If observed proportion is significantly larger than generated proportions, we will conclude that Amazon is transacted more in 2020."
   ]
  },
  {
   "cell_type": "code",
   "execution_count": 29,
   "metadata": {},
   "outputs": [
    {
     "data": {
      "text/plain": [
       "0.757"
      ]
     },
     "execution_count": 29,
     "metadata": {},
     "output_type": "execute_result"
    },
    {
     "data": {
      "image/png": "[encoded data removed]",
      "text/plain": [
       "<Figure size 432x288 with 1 Axes>"
      ]
     },
     "metadata": {
      "needs_background": "light"
     },
     "output_type": "display_data"
    }
   ],
   "source": [
    "# assign obs_amzn_2020 to store observed amazon proportion in 2020\n",
    "obs_amzn_2020 = with_party[(with_party['ticker']=='AMZN') & (with_party['transaction_year']==2020)].shape[0]\\\n",
    "                /with_party[with_party['transaction_year']==2020].shape[0]\n",
    "# assign num_2020 to store total number of transactions in 2020, which is number of random sample we want to draw\n",
    "num_2020=with_party[with_party['transaction_year']==2020].shape[0]\n",
    "\n",
    "props=[]\n",
    "# draw random sample and do hypothesis test for 1000 times\n",
    "for i in range(1000):\n",
    "    # generate random sample of same size as number of 2020 years\n",
    "    sample=with_party.sample(num_2020)\n",
    "    # compute the proportion of Amazon transactions\n",
    "    prop=(sample['ticker']=='AMZN').mean()\n",
    "    # append prop to props list\n",
    "    props.append(prop)\n",
    "    \n",
    "# visualize p-val\n",
    "pd.Series(props).plot(kind='hist', \n",
    "                     density=True,\n",
    "                     ec='w',\n",
    "                     title='Simulated TVDs');\n",
    "plt.axvline(x=obs_amzn_2020, color='red', linewidth=2);\n",
    "\n",
    "# pval is the proportion of generated props that are equal or more exetreme than observed prop\n",
    "pval=np.mean(obs_amzn_2020>=np.array(props))\n",
    "pval"
   ]
  },
  {
   "cell_type": "markdown",
   "metadata": {},
   "source": [
    "Since p-val=0.742>0.05, we fail to reject H0. We don't have sufficient evidence to say amazon were transacted more often in 2020. "
   ]
  },
  {
   "cell_type": "markdown",
   "metadata": {},
   "source": [
    "### Republic & Democratic have same distribution on transaction type?"
   ]
  },
  {
   "cell_type": "markdown",
   "metadata": {},
   "source": [
    "Next, we want to know whether Republic party and Democratic party hold the similar transaction type? As we see from EDA, the distributions of `type` look similar for two Party."
   ]
  },
  {
   "cell_type": "markdown",
   "metadata": {},
   "source": [
    "H0: Their transaction type follows same distribution\\\n",
    "H1: Their transaction type doesn't follow same distribution"
   ]
  },
  {
   "cell_type": "markdown",
   "metadata": {},
   "source": [
    "Since two party belong to two samples, we need to use permutation test. If two party have similar `type` distribution, after we shuffle one of the columns, the tvd should be close to observed tvd."
   ]
  },
  {
   "cell_type": "code",
   "execution_count": 30,
   "metadata": {},
   "outputs": [
    {
     "data": {
      "text/plain": [
       "0.0"
      ]
     },
     "execution_count": 30,
     "metadata": {},
     "output_type": "execute_result"
    },
    {
     "data": {
      "image/png": "[encoded data removed]",
      "text/plain": [
       "<Figure size 432x288 with 1 Axes>"
      ]
     },
     "metadata": {
      "needs_background": "light"
     },
     "output_type": "display_data"
    }
   ],
   "source": [
    "# assign obs to store tvd of type distribution between two party\n",
    "obs=with_party.pivot_table(index='Party', columns='type', aggfunc='size').apply(lambda x: x / x.sum(), axis=1)\\\n",
    "    .diff().iloc[-1,:].abs().sum() / 2\n",
    "# assign shuffled be copy of with_party df, so we won't modify original df\n",
    "shuffled=with_party.copy()\n",
    "n_repetitions = 500\n",
    "tvds = []\n",
    "for _ in range(n_repetitions):\n",
    "\n",
    "    # Shuffling Party column and assigning back to the DataFrame, so information is randomized\n",
    "    shuffled['Party'] = np.random.permutation(shuffled['Party'])\n",
    "\n",
    "    # Computing and storing TVD\n",
    "    pivoted = (\n",
    "        shuffled\n",
    "        .pivot_table(index='Party', columns='type', aggfunc='size')\n",
    "        .apply(lambda x: x / x.sum(), axis=1)\n",
    "    )\n",
    "    # calculate tvd of shuffled df\n",
    "    tvd = pivoted.diff().iloc[-1,:].abs().sum() / 2\n",
    "    tvds.append(tvd)\n",
    "\n",
    "# visualize p-val\n",
    "pd.Series(tvds).plot(kind='hist', \n",
    "                     density=True,\n",
    "                     ec='w',\n",
    "                     title='Simulated TVDs');\n",
    "plt.axvline(x=obs, color='red', linewidth=2);\n",
    "# assign pval to be proportion of tvds larger or equal to observed tvd\n",
    "pval=np.mean(np.array(tvds)>=obs)\n",
    "pval"
   ]
  },
  {
   "cell_type": "markdown",
   "metadata": {},
   "source": [
    "Since pval=0<0.05, we reject H0. We have sufficient evidence to say two distributions of type are not the same, meanding two party have different transaction type."
   ]
  },
  {
   "cell_type": "code",
   "execution_count": null,
   "metadata": {},
   "outputs": [],
   "source": []
  }
 ],
 "metadata": {
  "kernelspec": {
   "display_name": "Python 3 (ipykernel)",
   "language": "python",
   "name": "python3"
  },
  "language_info": {
   "codemirror_mode": {
    "name": "ipython",
    "version": 3
   },
   "file_extension": ".py",
   "mimetype": "text/x-python",
   "name": "python",
   "nbconvert_exporter": "python",
   "pygments_lexer": "ipython3",
   "version": "3.8.13"
  }
 },
 "nbformat": 4,
 "nbformat_minor": 2
}

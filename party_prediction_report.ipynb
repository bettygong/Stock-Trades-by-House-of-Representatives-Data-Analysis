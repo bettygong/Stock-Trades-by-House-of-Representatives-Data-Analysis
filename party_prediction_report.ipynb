{
 "cells": [
  {
   "cell_type": "markdown",
   "metadata": {},
   "source": [
    "# Predict Representative's Party from Stock transaction\n",
    "\n",
    "**Ziling Gong, Jiatu Li**"
   ]
  },
  {
   "cell_type": "markdown",
   "metadata": {},
   "source": [
    "## Summary of Findings\n",
    "\n",
    "\n",
    "### Introduction\n",
    "We are using binary classification to predict the party affiliation of a representative from their stock trades. The reason we are using binary classification, particularly Decision Tree, is becasue our response variable `Party` is binary, either Democratic or Republican. `Party` column is not coming with stock dataframe, we merged it with stock df on `district`. Because each district code is unique and its party affiliation can be found online. The reason we choose response variable to be `Party` is our question asks for the prediction of party affiliation. The metric we are using is accuracy. Because we only care about how many outcomes are correctly predicted. F1-score is not necessary for our question, becasue there is no significant effect if we predict too much FP or FN. FP and FN are equally weighted for our purpose. \n",
    "\n",
    "### Baseline Model\n",
    "For the baseline model, we built a Decision Tree Classifier. We used two columns as features. The columns are `type`, and `owner`. Since `type` and `owner` columns are nominal categorical features, we used one-hot encoding to transform the data. Becaue OHE transform categorical data into sparse matrix. The performance of our baseline model is not good (but also not too bad). The accuracy of this decision tree classifier turns out to be about 68.1%. The baseline model predicts Democratic better than Republican, as accuracy for Democratic being 0.72 and for Republican bing 0.57.\n",
    "\n",
    "### Final Model\n",
    "For the final model, we added two columns as new features. We extracted the lower bound of each data in the `amount` column, stored in `amount_lower_bound`. The reason we only use lower bound is because some entry doesn't contain upper bound. We also loaded a new DataFrame describing the region of each state in the U.S. and created a new feature `Region`. This new feature `Region` is good because the party affiliation of representatives do depend on states and regions. Then after having `amount_lower_bd`, `type`, `owner`, and `Region` as features, we used GridSearch with 10-fold cross validation to help find the best parameter of our Decision Tree model. We found the best parameter is 13 as max depth. Our test accuracy for final model is 0.81, and test accuracy for prediciting Democratic and Republican is 0.79 and 0.83. The model is not overfitting since the test accuracy is not differs dramatically from train accuracy(0.815). It is improved compared to baseline model.\n",
    "\n",
    "Sicne our dataframe contains categorical data the most, it's hard to extract useful quantitative data. If we have more information, we will extract quantitative data better and using other model such as logistic regression. \n",
    "\n",
    "### Fairness Analysis\n",
    "We want to investigate whether our final model is fair for type, especially purchase or non-purchase type.\\\n",
    "H0: accuracy for purchase type is fair\\\n",
    "H1: accuracy for purchase type is not fair\\\n",
    "We observed the accuracy difference between purchase type and non-purchase type is -0.02. We performed permutation test, in which we shuffled `type_purchase` column, and calculate its accuracy difference. We are looking forward see the observed data falls into the sampled distribution under H0. But we saw that the observed data is far from the distribution and p-val=0, we reject H0. We don't have sufficient evidence to say the model is fair for purchase type. "
   ]
  },
  {
   "cell_type": "markdown",
   "metadata": {},
   "source": [
    "## Code"
   ]
  },
  {
   "cell_type": "code",
   "execution_count": 205,
   "metadata": {},
   "outputs": [],
   "source": [
    "import matplotlib.pyplot as plt\n",
    "import numpy as np\n",
    "import os\n",
    "import pandas as pd\n",
    "import seaborn as sns\n",
    "import re\n",
    "%config InlineBackend.figure_format = 'retina'  # Higher resolution figures"
   ]
  },
  {
   "cell_type": "markdown",
   "metadata": {},
   "source": [
    "Import stock and party affiliation data, and merge two data frames. We replace `--` with `np.NaN` to align the format. After merging, there is one row with 'VACANT' in its `Party` column, which is because `Vacant` value in district dataset. It is trivial, so we'd like to drop VACANT row to make Party column interpretable (only containing `Republic` and `Democratic`)."
   ]
  },
  {
   "cell_type": "code",
   "execution_count": 206,
   "metadata": {},
   "outputs": [
    {
     "data": {
      "text/html": [
       "<div>\n",
       "<style scoped>\n",
       "    .dataframe tbody tr th:only-of-type {\n",
       "        vertical-align: middle;\n",
       "    }\n",
       "\n",
       "    .dataframe tbody tr th {\n",
       "        vertical-align: top;\n",
       "    }\n",
       "\n",
       "    .dataframe thead th {\n",
       "        text-align: right;\n",
       "    }\n",
       "</style>\n",
       "<table border=\"1\" class=\"dataframe\">\n",
       "  <thead>\n",
       "    <tr style=\"text-align: right;\">\n",
       "      <th></th>\n",
       "      <th>disclosure_year</th>\n",
       "      <th>disclosure_date</th>\n",
       "      <th>transaction_date</th>\n",
       "      <th>owner</th>\n",
       "      <th>ticker</th>\n",
       "      <th>asset_description</th>\n",
       "      <th>type</th>\n",
       "      <th>amount</th>\n",
       "      <th>representative</th>\n",
       "      <th>district</th>\n",
       "      <th>ptr_link</th>\n",
       "      <th>cap_gains_over_200_usd</th>\n",
       "      <th>Party</th>\n",
       "    </tr>\n",
       "  </thead>\n",
       "  <tbody>\n",
       "    <tr>\n",
       "      <th>0</th>\n",
       "      <td>2021</td>\n",
       "      <td>10/04/2021</td>\n",
       "      <td>2021-09-27</td>\n",
       "      <td>joint</td>\n",
       "      <td>BP</td>\n",
       "      <td>BP plc</td>\n",
       "      <td>purchase</td>\n",
       "      <td>$1,001 - $15,000</td>\n",
       "      <td>Hon. Virginia Foxx</td>\n",
       "      <td>NC05</td>\n",
       "      <td>https://disclosures-clerk.house.gov/public_dis...</td>\n",
       "      <td>False</td>\n",
       "      <td>Republican</td>\n",
       "    </tr>\n",
       "    <tr>\n",
       "      <th>1</th>\n",
       "      <td>2021</td>\n",
       "      <td>10/04/2021</td>\n",
       "      <td>2021-09-13</td>\n",
       "      <td>joint</td>\n",
       "      <td>XOM</td>\n",
       "      <td>Exxon Mobil Corporation</td>\n",
       "      <td>purchase</td>\n",
       "      <td>$1,001 - $15,000</td>\n",
       "      <td>Hon. Virginia Foxx</td>\n",
       "      <td>NC05</td>\n",
       "      <td>https://disclosures-clerk.house.gov/public_dis...</td>\n",
       "      <td>False</td>\n",
       "      <td>Republican</td>\n",
       "    </tr>\n",
       "    <tr>\n",
       "      <th>2</th>\n",
       "      <td>2021</td>\n",
       "      <td>10/04/2021</td>\n",
       "      <td>2021-09-10</td>\n",
       "      <td>joint</td>\n",
       "      <td>ILPT</td>\n",
       "      <td>Industrial Logistics Properties Trust - Common...</td>\n",
       "      <td>purchase</td>\n",
       "      <td>$15,001 - $50,000</td>\n",
       "      <td>Hon. Virginia Foxx</td>\n",
       "      <td>NC05</td>\n",
       "      <td>https://disclosures-clerk.house.gov/public_dis...</td>\n",
       "      <td>False</td>\n",
       "      <td>Republican</td>\n",
       "    </tr>\n",
       "    <tr>\n",
       "      <th>3</th>\n",
       "      <td>2021</td>\n",
       "      <td>10/04/2021</td>\n",
       "      <td>2021-09-28</td>\n",
       "      <td>joint</td>\n",
       "      <td>PM</td>\n",
       "      <td>Phillip Morris International Inc</td>\n",
       "      <td>purchase</td>\n",
       "      <td>$15,001 - $50,000</td>\n",
       "      <td>Hon. Virginia Foxx</td>\n",
       "      <td>NC05</td>\n",
       "      <td>https://disclosures-clerk.house.gov/public_dis...</td>\n",
       "      <td>False</td>\n",
       "      <td>Republican</td>\n",
       "    </tr>\n",
       "    <tr>\n",
       "      <th>4</th>\n",
       "      <td>2021</td>\n",
       "      <td>10/04/2021</td>\n",
       "      <td>2021-09-17</td>\n",
       "      <td>self</td>\n",
       "      <td>BLK</td>\n",
       "      <td>BlackRock Inc</td>\n",
       "      <td>sale_partial</td>\n",
       "      <td>$1,001 - $15,000</td>\n",
       "      <td>Hon. Alan S. Lowenthal</td>\n",
       "      <td>CA47</td>\n",
       "      <td>https://disclosures-clerk.house.gov/public_dis...</td>\n",
       "      <td>False</td>\n",
       "      <td>Democratic</td>\n",
       "    </tr>\n",
       "  </tbody>\n",
       "</table>\n",
       "</div>"
      ],
      "text/plain": [
       "   disclosure_year disclosure_date transaction_date  owner ticker  \\\n",
       "0             2021      10/04/2021       2021-09-27  joint     BP   \n",
       "1             2021      10/04/2021       2021-09-13  joint    XOM   \n",
       "2             2021      10/04/2021       2021-09-10  joint   ILPT   \n",
       "3             2021      10/04/2021       2021-09-28  joint     PM   \n",
       "4             2021      10/04/2021       2021-09-17   self    BLK   \n",
       "\n",
       "                                   asset_description          type  \\\n",
       "0                                             BP plc      purchase   \n",
       "1                            Exxon Mobil Corporation      purchase   \n",
       "2  Industrial Logistics Properties Trust - Common...      purchase   \n",
       "3                   Phillip Morris International Inc      purchase   \n",
       "4                                      BlackRock Inc  sale_partial   \n",
       "\n",
       "              amount          representative district  \\\n",
       "0   $1,001 - $15,000      Hon. Virginia Foxx     NC05   \n",
       "1   $1,001 - $15,000      Hon. Virginia Foxx     NC05   \n",
       "2  $15,001 - $50,000      Hon. Virginia Foxx     NC05   \n",
       "3  $15,001 - $50,000      Hon. Virginia Foxx     NC05   \n",
       "4   $1,001 - $15,000  Hon. Alan S. Lowenthal     CA47   \n",
       "\n",
       "                                            ptr_link  cap_gains_over_200_usd  \\\n",
       "0  https://disclosures-clerk.house.gov/public_dis...                   False   \n",
       "1  https://disclosures-clerk.house.gov/public_dis...                   False   \n",
       "2  https://disclosures-clerk.house.gov/public_dis...                   False   \n",
       "3  https://disclosures-clerk.house.gov/public_dis...                   False   \n",
       "4  https://disclosures-clerk.house.gov/public_dis...                   False   \n",
       "\n",
       "        Party  \n",
       "0  Republican  \n",
       "1  Republican  \n",
       "2  Republican  \n",
       "3  Republican  \n",
       "4  Democratic  "
      ]
     },
     "execution_count": 206,
     "metadata": {},
     "output_type": "execute_result"
    }
   ],
   "source": [
    "stock=pd.read_csv('all_transactions.csv') # stock dataset\n",
    "stock=stock.replace('--',np.NaN)\n",
    "district=pd.read_csv('out_district.csv').drop('idx',axis=1) # district code and party affiliation dataframe\n",
    "with_party=stock.merge(district,left_on='district',right_on='District',how='left').drop('District',axis=1)\n",
    "with_party=with_party[with_party['Party']!='VACANT'] #drop VACANT rows\n",
    "with_party.head()"
   ]
  },
  {
   "cell_type": "markdown",
   "metadata": {},
   "source": [
    "We extract `transaction_month` and `transaction_year` from `transaction_date` column."
   ]
  },
  {
   "cell_type": "code",
   "execution_count": 207,
   "metadata": {},
   "outputs": [],
   "source": [
    "# convert dates to datetime object\n",
    "with_party=with_party.assign(disclosure_date=pd.to_datetime(with_party['disclosure_date']))\n",
    "# strange string dictionary for replacing\n",
    "strange = {'0009-06-09': '2021-06-09', '0021-08-02': '2021-08-02', '0021-06-22': '2021-06-22', \n",
    "           '20221-11-18': '2021-11-18', '2012-06-19': '2021-06-19', '0201-06-22': '2021-06-22'}\n",
    "with_party['transaction_date'] = with_party['transaction_date'].replace(strange)\n",
    "with_party=with_party.assign(transaction_date=pd.to_datetime(with_party['transaction_date']))\n",
    "# assign month and year columns\n",
    "with_party=with_party.assign(transaction_month=with_party['transaction_date'].dt.month.astype(int))\n",
    "with_party=with_party.assign(transaction_year=with_party['transaction_date'].dt.year)"
   ]
  },
  {
   "cell_type": "markdown",
   "metadata": {},
   "source": [
    "### Baseline Model"
   ]
  },
  {
   "cell_type": "code",
   "execution_count": 210,
   "metadata": {},
   "outputs": [],
   "source": [
    "from sklearn.preprocessing import OneHotEncoder\n",
    "from sklearn.model_selection import train_test_split\n",
    "from sklearn.pipeline import Pipeline\n",
    "from sklearn.compose import ColumnTransformer\n",
    "from sklearn.model_selection import GridSearchCV\n",
    "from sklearn import metrics"
   ]
  },
  {
   "cell_type": "code",
   "execution_count": 211,
   "metadata": {},
   "outputs": [],
   "source": [
    "from sklearn.linear_model import LogisticRegression\n",
    "from sklearn.tree import DecisionTreeClassifier"
   ]
  },
  {
   "cell_type": "markdown",
   "metadata": {},
   "source": [
    "We set X be feature matrix and y be response variable `Party`. We splited data into train and test sets."
   ]
  },
  {
   "cell_type": "code",
   "execution_count": 212,
   "metadata": {},
   "outputs": [],
   "source": [
    "X=with_party.drop('Party',axis=1)\n",
    "y=with_party['Party']\n",
    "X_train, X_test, y_train, y_test= train_test_split(X, y)"
   ]
  },
  {
   "cell_type": "markdown",
   "metadata": {},
   "source": [
    "We used OneHotEncoder to transform nomial columns, `type` and `owner`, into sparse array, so categorical data is transformed into 0's and 1's. We use DecisionTree model to do the prediction, because our question is binary classification. We set max_depth to be 6. Since it's a baseline model, we didn't use cross validation to find a good parameter. "
   ]
  },
  {
   "cell_type": "code",
   "execution_count": 289,
   "metadata": {},
   "outputs": [
    {
     "data": {
      "text/plain": [
       "Pipeline(steps=[('ohe',\n",
       "                 ColumnTransformer(transformers=[('ohe',\n",
       "                                                  OneHotEncoder(handle_unknown='ignore'),\n",
       "                                                  ['type', 'owner'])])),\n",
       "                ('dt', DecisionTreeClassifier(max_depth=6))])"
      ]
     },
     "execution_count": 289,
     "metadata": {},
     "output_type": "execute_result"
    }
   ],
   "source": [
    "ohe_base=ColumnTransformer([('ohe',OneHotEncoder(handle_unknown='ignore'),['type','owner'])],\\\n",
    "                           remainder='drop') # drop remaining columns\n",
    "pl_base=Pipeline([('ohe',ohe_base),('dt',DecisionTreeClassifier(max_depth=6))])\n",
    "pl_base.fit(X_train,y_train)"
   ]
  },
  {
   "cell_type": "markdown",
   "metadata": {},
   "source": [
    "We store prediction in pred, and the accuracy of baseline model is calculated below. "
   ]
  },
  {
   "cell_type": "code",
   "execution_count": 302,
   "metadata": {},
   "outputs": [
    {
     "name": "stdout",
     "output_type": "stream",
     "text": [
      "0.648449177877429\n"
     ]
    },
    {
     "data": {
      "text/plain": [
       "0.6522835528159148"
      ]
     },
     "execution_count": 302,
     "metadata": {},
     "output_type": "execute_result"
    }
   ],
   "source": [
    "pred=pl_base.predict(X_test)\n",
    "print(pl_base.score(X_train, y_train)) # train accuracy\n",
    "pl_base.score(X_test,y_test) #test accuracy"
   ]
  },
  {
   "cell_type": "markdown",
   "metadata": {},
   "source": [
    "Accuarcy is 0.65, and the confusion matrix shows that we predicted Democratic more correctly than we did for Republican. The model is not good enough, because 0.65 test accuracy is not much better than randomly guess, especially for Republican, the accuracy is only 0.57."
   ]
  },
  {
   "cell_type": "code",
   "execution_count": 291,
   "metadata": {},
   "outputs": [
    {
     "data": {
      "image/png": "[encoded data removed]",
      "text/plain": [
       "<Figure size 432x288 with 2 Axes>"
      ]
     },
     "metadata": {
      "image/png": {
       "height": 261,
       "width": 370
      },
      "needs_background": "light"
     },
     "output_type": "display_data"
    }
   ],
   "source": [
    "metrics.plot_confusion_matrix(pl_base, X_test, y_test);"
   ]
  },
  {
   "cell_type": "code",
   "execution_count": 307,
   "metadata": {},
   "outputs": [
    {
     "data": {
      "text/plain": [
       "0.5759951749095296"
      ]
     },
     "execution_count": 307,
     "metadata": {},
     "output_type": "execute_result"
    }
   ],
   "source": [
    "acc_demo=1373/(1373+538) # accuracy for Democratic is 0.72\n",
    "acc_rep= 955/(955+703)  # accuracy for Republican is 0.57"
   ]
  },
  {
   "cell_type": "markdown",
   "metadata": {},
   "source": [
    "### Final Model"
   ]
  },
  {
   "cell_type": "code",
   "execution_count": 217,
   "metadata": {},
   "outputs": [],
   "source": [
    "from sklearn.preprocessing import FunctionTransformer"
   ]
  },
  {
   "cell_type": "markdown",
   "metadata": {},
   "source": [
    "Define a `convert_amount` to convert amount column to a quantative column. We use the lower bound becasue some entry doesn't have upper bound, and it's unreasonable to determine a median. "
   ]
  },
  {
   "cell_type": "code",
   "execution_count": 310,
   "metadata": {},
   "outputs": [
    {
     "data": {
      "text/html": [
       "<div>\n",
       "<style scoped>\n",
       "    .dataframe tbody tr th:only-of-type {\n",
       "        vertical-align: middle;\n",
       "    }\n",
       "\n",
       "    .dataframe tbody tr th {\n",
       "        vertical-align: top;\n",
       "    }\n",
       "\n",
       "    .dataframe thead th {\n",
       "        text-align: right;\n",
       "    }\n",
       "</style>\n",
       "<table border=\"1\" class=\"dataframe\">\n",
       "  <thead>\n",
       "    <tr style=\"text-align: right;\">\n",
       "      <th></th>\n",
       "      <th>amount</th>\n",
       "    </tr>\n",
       "  </thead>\n",
       "  <tbody>\n",
       "    <tr>\n",
       "      <th>0</th>\n",
       "      <td>1001</td>\n",
       "    </tr>\n",
       "    <tr>\n",
       "      <th>1</th>\n",
       "      <td>1001</td>\n",
       "    </tr>\n",
       "    <tr>\n",
       "      <th>2</th>\n",
       "      <td>15001</td>\n",
       "    </tr>\n",
       "    <tr>\n",
       "      <th>3</th>\n",
       "      <td>15001</td>\n",
       "    </tr>\n",
       "    <tr>\n",
       "      <th>4</th>\n",
       "      <td>1001</td>\n",
       "    </tr>\n",
       "  </tbody>\n",
       "</table>\n",
       "</div>"
      ],
      "text/plain": [
       "   amount\n",
       "0    1001\n",
       "1    1001\n",
       "2   15001\n",
       "3   15001\n",
       "4    1001"
      ]
     },
     "execution_count": 310,
     "metadata": {},
     "output_type": "execute_result"
    }
   ],
   "source": [
    "def convert_amount(with_party):\n",
    "    '''\n",
    "    convert amount to numerical value\n",
    "    '''\n",
    "    amount_range=with_party['amount'].str.replace(',','')\n",
    "    amount_range=amount_range.apply(lambda x:re.findall(r'\\$(\\d*)',x))\n",
    "    return amount_range.str[0].to_frame().astype(int)\n",
    "convert_amount(with_party).head()"
   ]
  },
  {
   "cell_type": "markdown",
   "metadata": {},
   "source": [
    "Define `get_region` function to extract state from `district`, and get its region from `region` dataframe. Because the state of the Representative effects the party affiliation. "
   ]
  },
  {
   "cell_type": "code",
   "execution_count": 329,
   "metadata": {},
   "outputs": [
    {
     "data": {
      "text/html": [
       "<div>\n",
       "<style scoped>\n",
       "    .dataframe tbody tr th:only-of-type {\n",
       "        vertical-align: middle;\n",
       "    }\n",
       "\n",
       "    .dataframe tbody tr th {\n",
       "        vertical-align: top;\n",
       "    }\n",
       "\n",
       "    .dataframe thead th {\n",
       "        text-align: right;\n",
       "    }\n",
       "</style>\n",
       "<table border=\"1\" class=\"dataframe\">\n",
       "  <thead>\n",
       "    <tr style=\"text-align: right;\">\n",
       "      <th></th>\n",
       "      <th>Region</th>\n",
       "    </tr>\n",
       "  </thead>\n",
       "  <tbody>\n",
       "    <tr>\n",
       "      <th>0</th>\n",
       "      <td>South</td>\n",
       "    </tr>\n",
       "    <tr>\n",
       "      <th>1</th>\n",
       "      <td>South</td>\n",
       "    </tr>\n",
       "    <tr>\n",
       "      <th>2</th>\n",
       "      <td>South</td>\n",
       "    </tr>\n",
       "    <tr>\n",
       "      <th>3</th>\n",
       "      <td>South</td>\n",
       "    </tr>\n",
       "    <tr>\n",
       "      <th>4</th>\n",
       "      <td>South</td>\n",
       "    </tr>\n",
       "  </tbody>\n",
       "</table>\n",
       "</div>"
      ],
      "text/plain": [
       "  Region\n",
       "0  South\n",
       "1  South\n",
       "2  South\n",
       "3  South\n",
       "4  South"
      ]
     },
     "execution_count": 329,
     "metadata": {},
     "output_type": "execute_result"
    }
   ],
   "source": [
    "def get_region(with_party):\n",
    "    stock_region=with_party['district'].str[:2].to_frame()\n",
    "    merged_region_df=stock_region.merge(region[['State Code','Region']], left_on='district',right_on='State Code')\n",
    "    return merged_region_df[['Region']]\n",
    "    \n",
    "get_region(with_party).head()"
   ]
  },
  {
   "cell_type": "markdown",
   "metadata": {},
   "source": [
    "Construct ohe_fi to for GridSearch. "
   ]
  },
  {
   "cell_type": "code",
   "execution_count": 340,
   "metadata": {},
   "outputs": [],
   "source": [
    "amount_pip = Pipeline([('amount', FunctionTransformer(convert_amount)),\\\n",
    "                       ('ohe',OneHotEncoder(handle_unknown='ignore'))])\n",
    "region_pip=Pipeline([('region',FunctionTransformer(get_region)), \\\n",
    "                     ('ohe',OneHotEncoder(handle_unknown='ignore'))])\n",
    "# pass amount, region, type, owner information to ohe_fi\n",
    "ohe_fi=ColumnTransformer([('amount_pip',amount_pip,['amount']),\\\n",
    "                          ('region_pip',region_pip,['district']),\\\n",
    "                          ('ohe_main',OneHotEncoder(handle_unknown='ignore'),['type','owner'])],remainder='drop')"
   ]
  },
  {
   "cell_type": "markdown",
   "metadata": {},
   "source": [
    "We use GridSearchCV to find the best max_depth for DecisionTree, and we got 13 as the best paramether."
   ]
  },
  {
   "cell_type": "code",
   "execution_count": 280,
   "metadata": {},
   "outputs": [
    {
     "data": {
      "text/plain": [
       "{'max_depth': 13}"
      ]
     },
     "execution_count": 280,
     "metadata": {},
     "output_type": "execute_result"
    }
   ],
   "source": [
    "hyper={'max_depth':[2,3,4,5,6,7,8,9,10,11,12,13,14,15,16,17,18]}\n",
    "pl_cv=Pipeline([('ohe',ohe_fi),('searcher',GridSearchCV(DecisionTreeClassifier(),hyper, cv=10))])\n",
    "pl_cv.fit(X_train, y_train) # fit cv pipeline\n",
    "pl_cv['searcher'].best_params_"
   ]
  },
  {
   "cell_type": "markdown",
   "metadata": {},
   "source": [
    "We add `amount_lower_bd` and `Region` to the model. `Region` is nominal data, and `amount_lower_bd` is quantitative data. We added `Region` because party affiliation relates to the state of the Representative in. "
   ]
  },
  {
   "cell_type": "code",
   "execution_count": 345,
   "metadata": {},
   "outputs": [],
   "source": [
    "amount_pip = Pipeline([('amount', FunctionTransformer(convert_amount)),('ohe',OneHotEncoder(handle_unknown='ignore'))])\n",
    "region_pip=Pipeline([('region',FunctionTransformer(get_region)), ('ohe',OneHotEncoder(handle_unknown='ignore'))])\n",
    "preproc=ColumnTransformer([('amount_pip',amount_pip,['amount']),('region_pip',region_pip,['district']),\\\n",
    "                          ('ohe_main',OneHotEncoder(handle_unknown='ignore'),['type','owner'])],remainder='drop')\n",
    "pl_fi=Pipeline([('preproc',preproc),('dt',DecisionTreeClassifier(max_depth=9))])\n",
    "pl_fi.fit(X_train,y_train)\n",
    "pred=pl_fi.predict(X_test)"
   ]
  },
  {
   "cell_type": "markdown",
   "metadata": {},
   "source": [
    "We got test accuracy to be 0.815, which is improved from baseline model. "
   ]
  },
  {
   "cell_type": "code",
   "execution_count": 331,
   "metadata": {},
   "outputs": [
    {
     "name": "stdout",
     "output_type": "stream",
     "text": [
      "0.8139013452914798\n"
     ]
    },
    {
     "data": {
      "text/plain": [
       "0.8150742504903334"
      ]
     },
     "execution_count": 331,
     "metadata": {},
     "output_type": "execute_result"
    }
   ],
   "source": [
    "print(pl_fi.score(X_train,y_train)) # train accuracy\n",
    "pl_fi.score(X_test,y_test) # test accuracy"
   ]
  },
  {
   "cell_type": "markdown",
   "metadata": {},
   "source": [
    "We ploted confusion matrix, and found that the accuracy for Democratics and Republican both increased. "
   ]
  },
  {
   "cell_type": "code",
   "execution_count": 298,
   "metadata": {},
   "outputs": [
    {
     "data": {
      "image/png": "[encoded data removed]",
      "text/plain": [
       "<Figure size 432x288 with 2 Axes>"
      ]
     },
     "metadata": {
      "image/png": {
       "height": 261,
       "width": 370
      },
      "needs_background": "light"
     },
     "output_type": "display_data"
    }
   ],
   "source": [
    "metrics.plot_confusion_matrix(pl_fi, X_test, y_test);"
   ]
  },
  {
   "cell_type": "code",
   "execution_count": 309,
   "metadata": {},
   "outputs": [
    {
     "name": "stdout",
     "output_type": "stream",
     "text": [
      "0.8353437876960192\n"
     ]
    }
   ],
   "source": [
    "acc_demo=1524/(1524+387) # accuracy for Democratic is 0.79\n",
    "acc_rep= 1385/(1385+273)  # accuracy for Republican is 0.83"
   ]
  },
  {
   "cell_type": "code",
   "execution_count": null,
   "metadata": {},
   "outputs": [],
   "source": []
  },
  {
   "cell_type": "markdown",
   "metadata": {},
   "source": [
    "### Fairness Analysis"
   ]
  },
  {
   "cell_type": "markdown",
   "metadata": {},
   "source": [
    "#### Is the final model fair for purchase type and non-purchase type?"
   ]
  },
  {
   "cell_type": "markdown",
   "metadata": {},
   "source": [
    "Assign pred_fi to be predicted outcome in final model, and stored it to dataframe `pred_df`."
   ]
  },
  {
   "cell_type": "code",
   "execution_count": 319,
   "metadata": {},
   "outputs": [],
   "source": [
    "pred_fi=pl_fi.predict(X)\n",
    "pred_df=with_party.assign(predict_party=pred_fi)"
   ]
  },
  {
   "cell_type": "markdown",
   "metadata": {},
   "source": [
    "We are interested in whether the prediction is fair for different type."
   ]
  },
  {
   "cell_type": "code",
   "execution_count": 252,
   "metadata": {},
   "outputs": [
    {
     "data": {
      "text/plain": [
       "purchase        7428\n",
       "sale_full       4562\n",
       "sale_partial    2155\n",
       "exchange         128\n",
       "Name: type, dtype: int64"
      ]
     },
     "execution_count": 252,
     "metadata": {},
     "output_type": "execute_result"
    }
   ],
   "source": [
    "pred_df['type'].value_counts()"
   ]
  },
  {
   "cell_type": "markdown",
   "metadata": {},
   "source": [
    "H0: accuracy for purchase type is fair\\\n",
    "H1: accuracy for purchase type is not fair"
   ]
  },
  {
   "cell_type": "markdown",
   "metadata": {},
   "source": [
    "Assign `type_purchase` to store whether the type is purchase or not. Groupby `type_purchase` and calculate the observed difference between accuracy, -0.02. We want to know if the observed difference is due to randomness or it's biased."
   ]
  },
  {
   "cell_type": "code",
   "execution_count": 327,
   "metadata": {},
   "outputs": [
    {
     "name": "stdout",
     "output_type": "stream",
     "text": [
      "type_purchase\n",
      "False    0.825128\n",
      "True     0.804120\n",
      "dtype: float64\n",
      "-0.02100828287572376\n"
     ]
    }
   ],
   "source": [
    "purchase_df=pred_df.assign(type_purchase=(pred_df['type']=='purchase'))\n",
    "# calculate accuracy for type_purchase groups\n",
    "obs=purchase_df.groupby('type_purchase')\\\n",
    "    .apply(lambda x: metrics.accuracy_score(x['Party'], x['predict_party'])) \n",
    "print(obs) # observed accuracy for purchase type and non-purchase type\n",
    "obs_diff=obs.diff().iloc[-1]\n",
    "print(obs_diff) # observed difference"
   ]
  },
  {
   "cell_type": "markdown",
   "metadata": {},
   "source": [
    "Run permutation test to shuffle `type_purchase` column. Calculate the accuracy difference on the shuffled group, and store it in `diff_in_acc`"
   ]
  },
  {
   "cell_type": "code",
   "execution_count": 328,
   "metadata": {},
   "outputs": [],
   "source": [
    "diff_in_acc = []\n",
    "for _ in range(100):\n",
    "    diff = (\n",
    "        purchase_df\n",
    "        #shuffle the column\n",
    "        .assign(type_purchase=purchase_df['type_purchase'].sample(frac=1, replace=False).reset_index(drop=True))\n",
    "        .groupby('type_purchase')\n",
    "        .apply(lambda x: metrics.accuracy_score(x['Party'], x['predict_party']))\n",
    "        .diff().iloc[-1]\n",
    "    )\n",
    "    \n",
    "    diff_in_acc.append(diff)"
   ]
  },
  {
   "cell_type": "markdown",
   "metadata": {},
   "source": [
    "We plot the shuffed difference distribution and observed difference. We see that observed data is far out of the distribution, which tells us that it's not due to random chance. The model is not fair for purchase type."
   ]
  },
  {
   "cell_type": "code",
   "execution_count": 275,
   "metadata": {},
   "outputs": [
    {
     "data": {
      "image/png": "[encoded data removed]",
      "text/plain": [
       "<Figure size 720x360 with 1 Axes>"
      ]
     },
     "metadata": {
      "image/png": {
       "height": 318,
       "width": 605
      },
      "needs_background": "light"
     },
     "output_type": "display_data"
    }
   ],
   "source": [
    "plt.figure(figsize=(10, 5))\n",
    "pd.Series(diff_in_acc).plot(kind='hist', ec='w', density=True, bins=15, title='Difference in Accuracy (purchase type - non-purchase type)')\n",
    "plt.axvline(x=obs_diff, color='red', label='observed difference in accuracy')\n",
    "plt.legend(loc='upper left');"
   ]
  },
  {
   "cell_type": "code",
   "execution_count": 263,
   "metadata": {},
   "outputs": [
    {
     "data": {
      "text/plain": [
       "0.0"
      ]
     },
     "execution_count": 263,
     "metadata": {},
     "output_type": "execute_result"
    }
   ],
   "source": [
    "# pval\n",
    "np.mean(np.array(diff_in_acc)<obs_diff)"
   ]
  },
  {
   "cell_type": "markdown",
   "metadata": {},
   "source": [
    "Since pval<0.05, we reject H0. We have sufficient evidence to say accuracy for purchase type is not fair. "
   ]
  },
  {
   "cell_type": "code",
   "execution_count": null,
   "metadata": {},
   "outputs": [],
   "source": []
  },
  {
   "cell_type": "code",
   "execution_count": null,
   "metadata": {},
   "outputs": [],
   "source": []
  }
 ],
 "metadata": {
  "kernelspec": {
   "display_name": "Python 3 (ipykernel)",
   "language": "python",
   "name": "python3"
  },
  "language_info": {
   "codemirror_mode": {
    "name": "ipython",
    "version": 3
   },
   "file_extension": ".py",
   "mimetype": "text/x-python",
   "name": "python",
   "nbconvert_exporter": "python",
   "pygments_lexer": "ipython3",
   "version": "3.9.7"
  }
 },
 "nbformat": 4,
 "nbformat_minor": 2
}
